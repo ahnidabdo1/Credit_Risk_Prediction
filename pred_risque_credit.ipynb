{
 "cells": [
  {
   "cell_type": "markdown",
   "id": "ad9ee713",
   "metadata": {},
   "source": [
    "# 🧠 Projet de Synthèse I : Prédiction du Risque de Crédit par Réseaux de Neurones Artificiels (ANN)\n",
    "\n",
    "### 🎓 Formation : TS-DIA-IA103 – CMC Casablanca  \n",
    "**Cités des Métiers et des Compétences (CMC)** \n",
    "**Module M108 – Appréhender l’apprentissage profond**  \n",
    "**Année académique : 2024–2025**\n",
    "\n",
    "---\n",
    "\n",
    "## 👤 Réalisé par :\n",
    "**Ahnid Abdelouahed**  \n",
    "AI/ML/DL Student | Exploring Data Analysis & Intelligent Decision-Making\n",
    "CMC Casablanca"
   ]
  },
  {
   "cell_type": "markdown",
   "id": "8dbc97fb",
   "metadata": {},
   "source": [
    "## 📌 Contexte du Projet\n",
    "\n",
    "Les institutions financières 🏦 s’appuient de plus en plus sur des outils d’**intelligence artificielle (IA)** pour prendre des décisions automatisées.  \n",
    "L’une des applications majeures dans ce domaine est la **prédiction du risque de défaut de crédit** 💳❌.  \n",
    "Il s’agit de déterminer, à partir de données clients 📁 (âge 👤, revenu 💰, statut marital 💍, historique bancaire 📜, etc.), si un individu présente un **risque élevé** ⚠️ ou **faible** ✅ d’être insolvable.\n",
    "\n",
    "🎯 Ce projet vise à concevoir un **modèle de réseau de neurones artificiels (ANN)** 🧠 capable de prédire le risque de crédit d’un client à partir d’un ensemble de caractéristiques.\n"
   ]
  },
  {
   "cell_type": "markdown",
   "id": "af6c7491",
   "metadata": {},
   "source": [
    "## 🧰 Importation des Bibliothèques\n",
    "\n",
    "Nous commençons par importer les bibliothèques nécessaires pour notre projet de prédiction du risque de crédit à l'aide d'un réseau de neurones artificiels (ANN) :\n",
    "\n",
    "- **📊 pandas** : pour la manipulation des données tabulaires  \n",
    "- **🔢 numpy** : pour les opérations numériques efficaces  \n",
    "- **📈 matplotlib** : pour la visualisation des données  \n",
    "- **🤖 keras** : pour la construction et l'entraînement du modèle ANN  \n",
    "- **🧪 scikit-learn** : pour la division du dataset et la normalisation des données\n"
   ]
  },
  {
   "cell_type": "code",
   "execution_count": 32,
   "id": "222c63f7",
   "metadata": {},
   "outputs": [],
   "source": [
    "import pandas as pd\n",
    "import numpy as np\n",
    "import matplotlib.pyplot as plt\n",
    "import seaborn as sns\n",
    "import keras\n",
    "from keras.models import Sequential    \n",
    "from keras.layers import Dense ,Dropout\n",
    "from keras.optimizers import Adam\n",
    "from sklearn.model_selection import train_test_split    \n",
    "from sklearn.preprocessing import LabelEncoder, StandardScaler\n",
    "from sklearn.metrics import confusion_matrix\n",
    "from sklearn.linear_model import LogisticRegression\n",
    "from sklearn.metrics import classification_report\n",
    "import shap\n",
    "import os\n",
    "from keras.models import load_model\n",
    "import streamlit as st"
   ]
  },
  {
   "cell_type": "markdown",
   "id": "acab65da",
   "metadata": {},
   "source": [
    "## 📥 Chargement et Préparation des Données\n",
    "\n",
    "Nous chargeons notre dataset `german_credit_data.csv` à l'aide de **pandas**.  \n",
    "Ensuite, nous supprimons la colonne inutile `Unnamed: 0`, souvent générée automatiquement lors de l'enregistrement CSV.\n",
    "\n",
    "- `df.head()` 👀 : permet d'afficher les premières lignes du dataset\n",
    "- `drop(['Unnamed: 0'], axis=1)` 🧹 : supprime la colonne d’index redondante\n"
   ]
  },
  {
   "cell_type": "code",
   "execution_count": null,
   "id": "f617ec95",
   "metadata": {},
   "outputs": [
    {
     "data": {
      "application/vnd.microsoft.datawrangler.viewer.v0+json": {
       "columns": [
        {
         "name": "index",
         "rawType": "int64",
         "type": "integer"
        },
        {
         "name": "Age",
         "rawType": "int64",
         "type": "integer"
        },
        {
         "name": "Sex",
         "rawType": "object",
         "type": "string"
        },
        {
         "name": "Job",
         "rawType": "int64",
         "type": "integer"
        },
        {
         "name": "Housing",
         "rawType": "object",
         "type": "string"
        },
        {
         "name": "Saving accounts",
         "rawType": "object",
         "type": "unknown"
        },
        {
         "name": "Checking account",
         "rawType": "object",
         "type": "unknown"
        },
        {
         "name": "Credit amount",
         "rawType": "int64",
         "type": "integer"
        },
        {
         "name": "Duration",
         "rawType": "int64",
         "type": "integer"
        },
        {
         "name": "Purpose",
         "rawType": "object",
         "type": "string"
        }
       ],
       "ref": "551c43f8-6110-41f8-9f9b-0a534e5d2bea",
       "rows": [
        [
         "0",
         "67",
         "male",
         "2",
         "own",
         null,
         "little",
         "1169",
         "6",
         "radio/TV"
        ],
        [
         "1",
         "22",
         "female",
         "2",
         "own",
         "little",
         "moderate",
         "5951",
         "48",
         "radio/TV"
        ],
        [
         "2",
         "49",
         "male",
         "1",
         "own",
         "little",
         null,
         "2096",
         "12",
         "education"
        ],
        [
         "3",
         "45",
         "male",
         "2",
         "free",
         "little",
         "little",
         "7882",
         "42",
         "furniture/equipment"
        ],
        [
         "4",
         "53",
         "male",
         "2",
         "free",
         "little",
         "little",
         "4870",
         "24",
         "car"
        ],
        [
         "5",
         "35",
         "male",
         "1",
         "free",
         null,
         null,
         "9055",
         "36",
         "education"
        ],
        [
         "6",
         "53",
         "male",
         "2",
         "own",
         "quite rich",
         null,
         "2835",
         "24",
         "furniture/equipment"
        ],
        [
         "7",
         "35",
         "male",
         "3",
         "rent",
         "little",
         "moderate",
         "6948",
         "36",
         "car"
        ],
        [
         "8",
         "61",
         "male",
         "1",
         "own",
         "rich",
         null,
         "3059",
         "12",
         "radio/TV"
        ],
        [
         "9",
         "28",
         "male",
         "3",
         "own",
         "little",
         "moderate",
         "5234",
         "30",
         "car"
        ]
       ],
       "shape": {
        "columns": 9,
        "rows": 10
       }
      },
      "text/html": [
       "<div>\n",
       "<style scoped>\n",
       "    .dataframe tbody tr th:only-of-type {\n",
       "        vertical-align: middle;\n",
       "    }\n",
       "\n",
       "    .dataframe tbody tr th {\n",
       "        vertical-align: top;\n",
       "    }\n",
       "\n",
       "    .dataframe thead th {\n",
       "        text-align: right;\n",
       "    }\n",
       "</style>\n",
       "<table border=\"1\" class=\"dataframe\">\n",
       "  <thead>\n",
       "    <tr style=\"text-align: right;\">\n",
       "      <th></th>\n",
       "      <th>Age</th>\n",
       "      <th>Sex</th>\n",
       "      <th>Job</th>\n",
       "      <th>Housing</th>\n",
       "      <th>Saving accounts</th>\n",
       "      <th>Checking account</th>\n",
       "      <th>Credit amount</th>\n",
       "      <th>Duration</th>\n",
       "      <th>Purpose</th>\n",
       "    </tr>\n",
       "  </thead>\n",
       "  <tbody>\n",
       "    <tr>\n",
       "      <th>0</th>\n",
       "      <td>67</td>\n",
       "      <td>male</td>\n",
       "      <td>2</td>\n",
       "      <td>own</td>\n",
       "      <td>NaN</td>\n",
       "      <td>little</td>\n",
       "      <td>1169</td>\n",
       "      <td>6</td>\n",
       "      <td>radio/TV</td>\n",
       "    </tr>\n",
       "    <tr>\n",
       "      <th>1</th>\n",
       "      <td>22</td>\n",
       "      <td>female</td>\n",
       "      <td>2</td>\n",
       "      <td>own</td>\n",
       "      <td>little</td>\n",
       "      <td>moderate</td>\n",
       "      <td>5951</td>\n",
       "      <td>48</td>\n",
       "      <td>radio/TV</td>\n",
       "    </tr>\n",
       "    <tr>\n",
       "      <th>2</th>\n",
       "      <td>49</td>\n",
       "      <td>male</td>\n",
       "      <td>1</td>\n",
       "      <td>own</td>\n",
       "      <td>little</td>\n",
       "      <td>NaN</td>\n",
       "      <td>2096</td>\n",
       "      <td>12</td>\n",
       "      <td>education</td>\n",
       "    </tr>\n",
       "    <tr>\n",
       "      <th>3</th>\n",
       "      <td>45</td>\n",
       "      <td>male</td>\n",
       "      <td>2</td>\n",
       "      <td>free</td>\n",
       "      <td>little</td>\n",
       "      <td>little</td>\n",
       "      <td>7882</td>\n",
       "      <td>42</td>\n",
       "      <td>furniture/equipment</td>\n",
       "    </tr>\n",
       "    <tr>\n",
       "      <th>4</th>\n",
       "      <td>53</td>\n",
       "      <td>male</td>\n",
       "      <td>2</td>\n",
       "      <td>free</td>\n",
       "      <td>little</td>\n",
       "      <td>little</td>\n",
       "      <td>4870</td>\n",
       "      <td>24</td>\n",
       "      <td>car</td>\n",
       "    </tr>\n",
       "    <tr>\n",
       "      <th>5</th>\n",
       "      <td>35</td>\n",
       "      <td>male</td>\n",
       "      <td>1</td>\n",
       "      <td>free</td>\n",
       "      <td>NaN</td>\n",
       "      <td>NaN</td>\n",
       "      <td>9055</td>\n",
       "      <td>36</td>\n",
       "      <td>education</td>\n",
       "    </tr>\n",
       "    <tr>\n",
       "      <th>6</th>\n",
       "      <td>53</td>\n",
       "      <td>male</td>\n",
       "      <td>2</td>\n",
       "      <td>own</td>\n",
       "      <td>quite rich</td>\n",
       "      <td>NaN</td>\n",
       "      <td>2835</td>\n",
       "      <td>24</td>\n",
       "      <td>furniture/equipment</td>\n",
       "    </tr>\n",
       "    <tr>\n",
       "      <th>7</th>\n",
       "      <td>35</td>\n",
       "      <td>male</td>\n",
       "      <td>3</td>\n",
       "      <td>rent</td>\n",
       "      <td>little</td>\n",
       "      <td>moderate</td>\n",
       "      <td>6948</td>\n",
       "      <td>36</td>\n",
       "      <td>car</td>\n",
       "    </tr>\n",
       "    <tr>\n",
       "      <th>8</th>\n",
       "      <td>61</td>\n",
       "      <td>male</td>\n",
       "      <td>1</td>\n",
       "      <td>own</td>\n",
       "      <td>rich</td>\n",
       "      <td>NaN</td>\n",
       "      <td>3059</td>\n",
       "      <td>12</td>\n",
       "      <td>radio/TV</td>\n",
       "    </tr>\n",
       "    <tr>\n",
       "      <th>9</th>\n",
       "      <td>28</td>\n",
       "      <td>male</td>\n",
       "      <td>3</td>\n",
       "      <td>own</td>\n",
       "      <td>little</td>\n",
       "      <td>moderate</td>\n",
       "      <td>5234</td>\n",
       "      <td>30</td>\n",
       "      <td>car</td>\n",
       "    </tr>\n",
       "  </tbody>\n",
       "</table>\n",
       "</div>"
      ],
      "text/plain": [
       "   Age     Sex  Job Housing Saving accounts Checking account  Credit amount  \\\n",
       "0   67    male    2     own             NaN           little           1169   \n",
       "1   22  female    2     own          little         moderate           5951   \n",
       "2   49    male    1     own          little              NaN           2096   \n",
       "3   45    male    2    free          little           little           7882   \n",
       "4   53    male    2    free          little           little           4870   \n",
       "5   35    male    1    free             NaN              NaN           9055   \n",
       "6   53    male    2     own      quite rich              NaN           2835   \n",
       "7   35    male    3    rent          little         moderate           6948   \n",
       "8   61    male    1     own            rich              NaN           3059   \n",
       "9   28    male    3     own          little         moderate           5234   \n",
       "\n",
       "   Duration              Purpose  \n",
       "0         6             radio/TV  \n",
       "1        48             radio/TV  \n",
       "2        12            education  \n",
       "3        42  furniture/equipment  \n",
       "4        24                  car  \n",
       "5        36            education  \n",
       "6        24  furniture/equipment  \n",
       "7        36                  car  \n",
       "8        12             radio/TV  \n",
       "9        30                  car  "
      ]
     },
     "execution_count": 2,
     "metadata": {},
     "output_type": "execute_result"
    }
   ],
   "source": [
    "df = pd.read_csv('data/brut_data.csv')\n",
    "df.head()\n",
    "df.drop(['Unnamed: 0'], axis=1, inplace=True)\n",
    "df.head(10)"
   ]
  },
  {
   "cell_type": "code",
   "execution_count": 3,
   "id": "0220e907",
   "metadata": {},
   "outputs": [
    {
     "name": "stdout",
     "output_type": "stream",
     "text": [
      "<class 'pandas.core.frame.DataFrame'>\n",
      "RangeIndex: 1000 entries, 0 to 999\n",
      "Data columns (total 9 columns):\n",
      " #   Column            Non-Null Count  Dtype \n",
      "---  ------            --------------  ----- \n",
      " 0   Age               1000 non-null   int64 \n",
      " 1   Sex               1000 non-null   object\n",
      " 2   Job               1000 non-null   int64 \n",
      " 3   Housing           1000 non-null   object\n",
      " 4   Saving accounts   817 non-null    object\n",
      " 5   Checking account  606 non-null    object\n",
      " 6   Credit amount     1000 non-null   int64 \n",
      " 7   Duration          1000 non-null   int64 \n",
      " 8   Purpose           1000 non-null   object\n",
      "dtypes: int64(4), object(5)\n",
      "memory usage: 70.4+ KB\n"
     ]
    }
   ],
   "source": [
    "df.info()"
   ]
  },
  {
   "cell_type": "markdown",
   "id": "a9cfb7d5",
   "metadata": {},
   "source": [
    "🔍 **Valeurs manquantes** à noter :  \n",
    "- `Saving accounts` → 183 valeurs manquantes  \n",
    "- `Checking account` → 394 valeurs manquantes\n",
    "\n",
    "🧼 Ces colonnes devront être traitées lors du **prétraitement des données**."
   ]
  },
  {
   "cell_type": "markdown",
   "id": "88c85114",
   "metadata": {},
   "source": [
    "## 🧹 Gestion des Valeurs Manquantes\n",
    "\n",
    "Pour les colonnes catégorielles `Saving accounts` et `Checking account`,  \n",
    "nous remplaçons les valeurs manquantes par la catégorie `\"unknown\"` afin de conserver ces entrées tout en indiquant l’absence d’information."
   ]
  },
  {
   "cell_type": "code",
   "execution_count": 4,
   "id": "ece57846",
   "metadata": {},
   "outputs": [
    {
     "name": "stderr",
     "output_type": "stream",
     "text": [
      "C:\\Users\\ahnid\\AppData\\Local\\Temp\\ipykernel_21096\\1533544327.py:1: FutureWarning: A value is trying to be set on a copy of a DataFrame or Series through chained assignment using an inplace method.\n",
      "The behavior will change in pandas 3.0. This inplace method will never work because the intermediate object on which we are setting values always behaves as a copy.\n",
      "\n",
      "For example, when doing 'df[col].method(value, inplace=True)', try using 'df.method({col: value}, inplace=True)' or df[col] = df[col].method(value) instead, to perform the operation inplace on the original object.\n",
      "\n",
      "\n",
      "  df['Saving accounts'].fillna('unknown', inplace=True)\n",
      "C:\\Users\\ahnid\\AppData\\Local\\Temp\\ipykernel_21096\\1533544327.py:2: FutureWarning: A value is trying to be set on a copy of a DataFrame or Series through chained assignment using an inplace method.\n",
      "The behavior will change in pandas 3.0. This inplace method will never work because the intermediate object on which we are setting values always behaves as a copy.\n",
      "\n",
      "For example, when doing 'df[col].method(value, inplace=True)', try using 'df.method({col: value}, inplace=True)' or df[col] = df[col].method(value) instead, to perform the operation inplace on the original object.\n",
      "\n",
      "\n",
      "  df['Checking account'].fillna('unknown', inplace=True)\n"
     ]
    }
   ],
   "source": [
    "df['Saving accounts'].fillna('unknown', inplace=True)\n",
    "df['Checking account'].fillna('unknown', inplace=True)"
   ]
  },
  {
   "cell_type": "markdown",
   "id": "82c6d4ff",
   "metadata": {},
   "source": [
    "## 🏷️ Encodage des Variables Catégorielles\n",
    "\n",
    "Les colonnes catégorielles suivantes sont encodées en valeurs numériques à l’aide de `LabelEncoder` de **scikit-learn** :\n",
    "\n",
    "- `Sex`\n",
    "- `Housing`\n",
    "- `Saving accounts`\n",
    "- `Checking account`\n",
    "- `Purpose`\n",
    "\n",
    "Cela permet au modèle de réseau de neurones de traiter ces variables qui étaient initialement sous forme de texte.\n",
    "\n",
    "Chaque encodeur est sauvegardé dans un dictionnaire `label_encoders` pour un décodage ou une utilisation future.\n"
   ]
  },
  {
   "cell_type": "code",
   "execution_count": 5,
   "id": "20252e91",
   "metadata": {},
   "outputs": [],
   "source": [
    "categorical_cols = ['Sex', 'Housing', 'Saving accounts', 'Checking account', 'Purpose']\n",
    "\n",
    "label_encoders = {}\n",
    "\n",
    "for col in categorical_cols:\n",
    "    le = LabelEncoder()\n",
    "    df[col] = le.fit_transform(df[col])\n",
    "    label_encoders[col] = le"
   ]
  },
  {
   "cell_type": "markdown",
   "id": "551f46ad",
   "metadata": {},
   "source": [
    "## ⚖️ Normalisation des Variables Numériques\n",
    "\n",
    "Pour améliorer la performance du réseau de neurones, les variables numériques suivantes sont normalisées avec un **StandardScaler** :\n",
    "\n",
    "- `Age`  \n",
    "- `Credit amount`  \n",
    "- `Duration`  \n",
    "\n",
    "Cela centre les données autour de zéro avec une variance unitaire, facilitant l'apprentissage du modèle."
   ]
  },
  {
   "cell_type": "code",
   "execution_count": 6,
   "id": "b0ebdfcf",
   "metadata": {},
   "outputs": [
    {
     "data": {
      "application/vnd.microsoft.datawrangler.viewer.v0+json": {
       "columns": [
        {
         "name": "index",
         "rawType": "int64",
         "type": "integer"
        },
        {
         "name": "Age",
         "rawType": "float64",
         "type": "float"
        },
        {
         "name": "Sex",
         "rawType": "int64",
         "type": "integer"
        },
        {
         "name": "Job",
         "rawType": "int64",
         "type": "integer"
        },
        {
         "name": "Housing",
         "rawType": "int64",
         "type": "integer"
        },
        {
         "name": "Saving accounts",
         "rawType": "int64",
         "type": "integer"
        },
        {
         "name": "Checking account",
         "rawType": "int64",
         "type": "integer"
        },
        {
         "name": "Credit amount",
         "rawType": "float64",
         "type": "float"
        },
        {
         "name": "Duration",
         "rawType": "float64",
         "type": "float"
        },
        {
         "name": "Purpose",
         "rawType": "int64",
         "type": "integer"
        }
       ],
       "ref": "426f4377-e991-4b2b-b285-590183ae1f1c",
       "rows": [
        [
         "0",
         "2.7664564848025224",
         "1",
         "2",
         "1",
         "4",
         "0",
         "-0.7451314133870967",
         "-1.2364778603818776",
         "5"
        ],
        [
         "1",
         "-1.1914039404570154",
         "0",
         "2",
         "1",
         "0",
         "1",
         "0.9498167893630399",
         "2.2481943623946683",
         "5"
        ],
        [
         "2",
         "1.1833123146987072",
         "1",
         "1",
         "1",
         "0",
         "3",
         "-0.4165624079606273",
         "-0.738667542842371",
         "3"
        ],
        [
         "3",
         "0.8315024991200816",
         "1",
         "2",
         "0",
         "0",
         "0",
         "1.634246939825297",
         "1.7503840448551617",
         "4"
        ],
        [
         "4",
         "1.5351221302773328",
         "1",
         "2",
         "0",
         "0",
         "0",
         "0.5666635047179338",
         "0.2569530922366421",
         "1"
        ],
        [
         "5",
         "-0.048022039826482336",
         "1",
         "1",
         "0",
         "4",
         "3",
         "2.0500090146529657",
         "1.2525737273156552",
         "3"
        ],
        [
         "6",
         "1.5351221302773328",
         "1",
         "2",
         "1",
         "2",
         "3",
         "-0.1546287563854807",
         "0.2569530922366421",
         "4"
        ],
        [
         "7",
         "-0.048022039826482336",
         "1",
         "3",
         "2",
         "0",
         "1",
         "1.3031968307979807",
         "1.2525737273156552",
         "1"
        ],
        [
         "8",
         "2.238741761434584",
         "1",
         "1",
         "1",
         "3",
         "3",
         "-0.07523344115837269",
         "-0.738667542842371",
         "5"
        ],
        [
         "9",
         "-0.6636892170890771",
         "1",
         "3",
         "1",
         "0",
         "1",
         "0.6956808919619843",
         "0.7547634097761486",
         "1"
        ],
        [
         "10",
         "-0.9275465787730462",
         "0",
         "2",
         "2",
         "0",
         "1",
         "-0.7004715485718485",
         "-0.738667542842371",
         "1"
        ],
        [
         "11",
         "-1.0154990326677027",
         "0",
         "2",
         "2",
         "0",
         "0",
         "0.3674663299070645",
         "2.2481943623946683",
         "0"
        ],
        [
         "12",
         "-1.1914039404570154",
         "0",
         "2",
         "1",
         "0",
         "1",
         "-0.6040629515103602",
         "-0.738667542842371",
         "5"
        ],
        [
         "13",
         "2.1507893075399274",
         "1",
         "1",
         "1",
         "0",
         "0",
         "-0.734498112240609",
         "0.2569530922366421",
         "1"
        ],
        [
         "14",
         "-0.6636892170890771",
         "0",
         "2",
         "2",
         "0",
         "0",
         "-0.6621916644444927",
         "-0.4897623840726178",
         "1"
        ],
        [
         "15",
         "-0.3118794015104515",
         "0",
         "1",
         "1",
         "1",
         "0",
         "-0.7050793124019931",
         "0.2569530922366421",
         "5"
        ],
        [
         "16",
         "1.5351221302773328",
         "1",
         "2",
         "1",
         "4",
         "3",
         "-0.30030498209236195",
         "0.2569530922366421",
         "5"
        ],
        [
         "17",
         "-0.9275465787730462",
         "1",
         "2",
         "1",
         "4",
         "0",
         "1.701591180419719",
         "0.7547634097761486",
         "0"
        ],
        [
         "18",
         "0.7435500452254252",
         "0",
         "3",
         "0",
         "0",
         "1",
         "3.2990674559937188",
         "0.2569530922366421",
         "1"
        ],
        [
         "19",
         "-0.3998318554051079",
         "1",
         "2",
         "1",
         "2",
         "3",
         "0.056265049686524994",
         "0.2569530922366421",
         "5"
        ],
        [
         "20",
         "1.0953598608040507",
         "1",
         "2",
         "1",
         "0",
         "3",
         "-0.4030935598417429",
         "-0.9875727016121243",
         "1"
        ],
        [
         "21",
         "0.7435500452254252",
         "1",
         "2",
         "2",
         "2",
         "0",
         "-0.22126411023680354",
         "-1.2364778603818776",
         "5"
        ],
        [
         "22",
         "1.0953598608040507",
         "1",
         "1",
         "2",
         "0",
         "0",
         "-0.3651681190859368",
         "-0.9046043153555399",
         "1"
        ],
        [
         "23",
         "0.7435500452254252",
         "1",
         "2",
         "1",
         "1",
         "1",
         "-0.5200598724531074",
         "-0.738667542842371",
         "1"
        ],
        [
         "24",
         "-0.8395941248783899",
         "1",
         "2",
         "1",
         "4",
         "3",
         "-0.4261323789924662",
         "-0.9046043153555399",
         "4"
        ],
        [
         "25",
         "0.03993041406817406",
         "1",
         "1",
         "1",
         "0",
         "0",
         "-0.6724705222194308",
         "-1.2364778603818776",
         "4"
        ],
        [
         "26",
         "0.3037877757521432",
         "1",
         "1",
         "1",
         "0",
         "3",
         "-1.0084828384484417",
         "-1.2364778603818776",
         "5"
        ],
        [
         "27",
         "0.5676451374361124",
         "0",
         "2",
         "2",
         "3",
         "2",
         "-1.0145083757647846",
         "-0.738667542842371",
         "5"
        ],
        [
         "28",
         "-0.13597449372113873",
         "1",
         "2",
         "1",
         "0",
         "1",
         "-0.3034949724363083",
         "-1.1535094741252931",
         "5"
        ],
        [
         "29",
         "2.4146466692238966",
         "1",
         "2",
         "1",
         "0",
         "0",
         "1.2634991731844265",
         "3.2438149974736814",
         "0"
        ],
        [
         "30",
         "0.03993041406817406",
         "1",
         "2",
         "1",
         "3",
         "1",
         "-0.48142554495420214",
         "-0.2408572253028645",
         "0"
        ],
        [
         "31",
         "-0.7516416709837335",
         "1",
         "2",
         "1",
         "0",
         "0",
         "0.26538663890078273",
         "0.2569530922366421",
         "4"
        ],
        [
         "32",
         "-0.4877843092997643",
         "1",
         "2",
         "1",
         "1",
         "1",
         "0.9196891027813249",
         "-0.2408572253028645",
         "1"
        ],
        [
         "33",
         "1.8869319458559584",
         "1",
         "1",
         "2",
         "4",
         "3",
         "-0.7114592930898858",
         "-0.738667542842371",
         "0"
        ],
        [
         "34",
         "-0.22392694761579512",
         "0",
         "3",
         "1",
         "0",
         "2",
         "-0.637026185064472",
         "-0.738667542842371",
         "4"
        ],
        [
         "35",
         "-0.9275465787730462",
         "1",
         "1",
         "1",
         "0",
         "1",
         "0.5227125266457847",
         "1.999289203624915",
         "5"
        ],
        [
         "36",
         "-0.3998318554051079",
         "1",
         "2",
         "0",
         "0",
         "3",
         "1.0061732854394247",
         "2.2481943623946683",
         "3"
        ],
        [
         "37",
         "0.12788286796283044",
         "1",
         "2",
         "1",
         "0",
         "2",
         "-0.41514463447442895",
         "-0.2408572253028645",
         "5"
        ],
        [
         "38",
         "0.12788286796283044",
         "1",
         "2",
         "1",
         "0",
         "2",
         "-0.7252825845803197",
         "-0.9046043153555399",
         "2"
        ],
        [
         "39",
         "-1.0154990326677027",
         "1",
         "2",
         "1",
         "0",
         "1",
         "-0.9971406505588548",
         "-0.9875727016121243",
         "5"
        ],
        [
         "40",
         "-0.4877843092997643",
         "1",
         "3",
         "1",
         "2",
         "3",
         "-0.3325593289033746",
         "0.7547634097761486",
         "5"
        ],
        [
         "41",
         "-0.8395941248783899",
         "1",
         "2",
         "1",
         "2",
         "1",
         "-0.7490302904741422",
         "-0.738667542842371",
         "5"
        ],
        [
         "42",
         "0.7435500452254252",
         "1",
         "1",
         "1",
         "0",
         "1",
         "1.039490962365086",
         "-0.2408572253028645",
         "6"
        ],
        [
         "43",
         "-1.0154990326677027",
         "1",
         "2",
         "2",
         "1",
         "0",
         "1.033465425048743",
         "0.7547634097761486",
         "1"
        ],
        [
         "44",
         "1.9748843997506147",
         "0",
         "1",
         "0",
         "0",
         "0",
         "1.0178699167005612",
         "2.2481943623946683",
         "1"
        ],
        [
         "45",
         "-0.048022039826482336",
         "0",
         "3",
         "1",
         "0",
         "3",
         "-0.6657360981599887",
         "-0.8216359290989554",
         "1"
        ],
        [
         "46",
         "0.3037877757521432",
         "1",
         "2",
         "1",
         "2",
         "3",
         "-0.34461040353606065",
         "1.2525737273156552",
         "5"
        ],
        [
         "47",
         "-1.103451486562359",
         "0",
         "0",
         "2",
         "2",
         "0",
         "-0.6802682763935218",
         "-1.2364778603818776",
         "1"
        ],
        [
         "48",
         "0.3037877757521432",
         "1",
         "1",
         "1",
         "0",
         "3",
         "1.4024409748318656",
         "-0.8216359290989554",
         "1"
        ],
        [
         "49",
         "-0.6636892170890771",
         "0",
         "2",
         "1",
         "1",
         "3",
         "-0.4247146055062679",
         "-0.738667542842371",
         "5"
        ]
       ],
       "shape": {
        "columns": 9,
        "rows": 50
       }
      },
      "text/html": [
       "<div>\n",
       "<style scoped>\n",
       "    .dataframe tbody tr th:only-of-type {\n",
       "        vertical-align: middle;\n",
       "    }\n",
       "\n",
       "    .dataframe tbody tr th {\n",
       "        vertical-align: top;\n",
       "    }\n",
       "\n",
       "    .dataframe thead th {\n",
       "        text-align: right;\n",
       "    }\n",
       "</style>\n",
       "<table border=\"1\" class=\"dataframe\">\n",
       "  <thead>\n",
       "    <tr style=\"text-align: right;\">\n",
       "      <th></th>\n",
       "      <th>Age</th>\n",
       "      <th>Sex</th>\n",
       "      <th>Job</th>\n",
       "      <th>Housing</th>\n",
       "      <th>Saving accounts</th>\n",
       "      <th>Checking account</th>\n",
       "      <th>Credit amount</th>\n",
       "      <th>Duration</th>\n",
       "      <th>Purpose</th>\n",
       "    </tr>\n",
       "  </thead>\n",
       "  <tbody>\n",
       "    <tr>\n",
       "      <th>0</th>\n",
       "      <td>2.766456</td>\n",
       "      <td>1</td>\n",
       "      <td>2</td>\n",
       "      <td>1</td>\n",
       "      <td>4</td>\n",
       "      <td>0</td>\n",
       "      <td>-0.745131</td>\n",
       "      <td>-1.236478</td>\n",
       "      <td>5</td>\n",
       "    </tr>\n",
       "    <tr>\n",
       "      <th>1</th>\n",
       "      <td>-1.191404</td>\n",
       "      <td>0</td>\n",
       "      <td>2</td>\n",
       "      <td>1</td>\n",
       "      <td>0</td>\n",
       "      <td>1</td>\n",
       "      <td>0.949817</td>\n",
       "      <td>2.248194</td>\n",
       "      <td>5</td>\n",
       "    </tr>\n",
       "    <tr>\n",
       "      <th>2</th>\n",
       "      <td>1.183312</td>\n",
       "      <td>1</td>\n",
       "      <td>1</td>\n",
       "      <td>1</td>\n",
       "      <td>0</td>\n",
       "      <td>3</td>\n",
       "      <td>-0.416562</td>\n",
       "      <td>-0.738668</td>\n",
       "      <td>3</td>\n",
       "    </tr>\n",
       "    <tr>\n",
       "      <th>3</th>\n",
       "      <td>0.831502</td>\n",
       "      <td>1</td>\n",
       "      <td>2</td>\n",
       "      <td>0</td>\n",
       "      <td>0</td>\n",
       "      <td>0</td>\n",
       "      <td>1.634247</td>\n",
       "      <td>1.750384</td>\n",
       "      <td>4</td>\n",
       "    </tr>\n",
       "    <tr>\n",
       "      <th>4</th>\n",
       "      <td>1.535122</td>\n",
       "      <td>1</td>\n",
       "      <td>2</td>\n",
       "      <td>0</td>\n",
       "      <td>0</td>\n",
       "      <td>0</td>\n",
       "      <td>0.566664</td>\n",
       "      <td>0.256953</td>\n",
       "      <td>1</td>\n",
       "    </tr>\n",
       "    <tr>\n",
       "      <th>5</th>\n",
       "      <td>-0.048022</td>\n",
       "      <td>1</td>\n",
       "      <td>1</td>\n",
       "      <td>0</td>\n",
       "      <td>4</td>\n",
       "      <td>3</td>\n",
       "      <td>2.050009</td>\n",
       "      <td>1.252574</td>\n",
       "      <td>3</td>\n",
       "    </tr>\n",
       "    <tr>\n",
       "      <th>6</th>\n",
       "      <td>1.535122</td>\n",
       "      <td>1</td>\n",
       "      <td>2</td>\n",
       "      <td>1</td>\n",
       "      <td>2</td>\n",
       "      <td>3</td>\n",
       "      <td>-0.154629</td>\n",
       "      <td>0.256953</td>\n",
       "      <td>4</td>\n",
       "    </tr>\n",
       "    <tr>\n",
       "      <th>7</th>\n",
       "      <td>-0.048022</td>\n",
       "      <td>1</td>\n",
       "      <td>3</td>\n",
       "      <td>2</td>\n",
       "      <td>0</td>\n",
       "      <td>1</td>\n",
       "      <td>1.303197</td>\n",
       "      <td>1.252574</td>\n",
       "      <td>1</td>\n",
       "    </tr>\n",
       "    <tr>\n",
       "      <th>8</th>\n",
       "      <td>2.238742</td>\n",
       "      <td>1</td>\n",
       "      <td>1</td>\n",
       "      <td>1</td>\n",
       "      <td>3</td>\n",
       "      <td>3</td>\n",
       "      <td>-0.075233</td>\n",
       "      <td>-0.738668</td>\n",
       "      <td>5</td>\n",
       "    </tr>\n",
       "    <tr>\n",
       "      <th>9</th>\n",
       "      <td>-0.663689</td>\n",
       "      <td>1</td>\n",
       "      <td>3</td>\n",
       "      <td>1</td>\n",
       "      <td>0</td>\n",
       "      <td>1</td>\n",
       "      <td>0.695681</td>\n",
       "      <td>0.754763</td>\n",
       "      <td>1</td>\n",
       "    </tr>\n",
       "    <tr>\n",
       "      <th>10</th>\n",
       "      <td>-0.927547</td>\n",
       "      <td>0</td>\n",
       "      <td>2</td>\n",
       "      <td>2</td>\n",
       "      <td>0</td>\n",
       "      <td>1</td>\n",
       "      <td>-0.700472</td>\n",
       "      <td>-0.738668</td>\n",
       "      <td>1</td>\n",
       "    </tr>\n",
       "    <tr>\n",
       "      <th>11</th>\n",
       "      <td>-1.015499</td>\n",
       "      <td>0</td>\n",
       "      <td>2</td>\n",
       "      <td>2</td>\n",
       "      <td>0</td>\n",
       "      <td>0</td>\n",
       "      <td>0.367466</td>\n",
       "      <td>2.248194</td>\n",
       "      <td>0</td>\n",
       "    </tr>\n",
       "    <tr>\n",
       "      <th>12</th>\n",
       "      <td>-1.191404</td>\n",
       "      <td>0</td>\n",
       "      <td>2</td>\n",
       "      <td>1</td>\n",
       "      <td>0</td>\n",
       "      <td>1</td>\n",
       "      <td>-0.604063</td>\n",
       "      <td>-0.738668</td>\n",
       "      <td>5</td>\n",
       "    </tr>\n",
       "    <tr>\n",
       "      <th>13</th>\n",
       "      <td>2.150789</td>\n",
       "      <td>1</td>\n",
       "      <td>1</td>\n",
       "      <td>1</td>\n",
       "      <td>0</td>\n",
       "      <td>0</td>\n",
       "      <td>-0.734498</td>\n",
       "      <td>0.256953</td>\n",
       "      <td>1</td>\n",
       "    </tr>\n",
       "    <tr>\n",
       "      <th>14</th>\n",
       "      <td>-0.663689</td>\n",
       "      <td>0</td>\n",
       "      <td>2</td>\n",
       "      <td>2</td>\n",
       "      <td>0</td>\n",
       "      <td>0</td>\n",
       "      <td>-0.662192</td>\n",
       "      <td>-0.489762</td>\n",
       "      <td>1</td>\n",
       "    </tr>\n",
       "    <tr>\n",
       "      <th>15</th>\n",
       "      <td>-0.311879</td>\n",
       "      <td>0</td>\n",
       "      <td>1</td>\n",
       "      <td>1</td>\n",
       "      <td>1</td>\n",
       "      <td>0</td>\n",
       "      <td>-0.705079</td>\n",
       "      <td>0.256953</td>\n",
       "      <td>5</td>\n",
       "    </tr>\n",
       "    <tr>\n",
       "      <th>16</th>\n",
       "      <td>1.535122</td>\n",
       "      <td>1</td>\n",
       "      <td>2</td>\n",
       "      <td>1</td>\n",
       "      <td>4</td>\n",
       "      <td>3</td>\n",
       "      <td>-0.300305</td>\n",
       "      <td>0.256953</td>\n",
       "      <td>5</td>\n",
       "    </tr>\n",
       "    <tr>\n",
       "      <th>17</th>\n",
       "      <td>-0.927547</td>\n",
       "      <td>1</td>\n",
       "      <td>2</td>\n",
       "      <td>1</td>\n",
       "      <td>4</td>\n",
       "      <td>0</td>\n",
       "      <td>1.701591</td>\n",
       "      <td>0.754763</td>\n",
       "      <td>0</td>\n",
       "    </tr>\n",
       "    <tr>\n",
       "      <th>18</th>\n",
       "      <td>0.743550</td>\n",
       "      <td>0</td>\n",
       "      <td>3</td>\n",
       "      <td>0</td>\n",
       "      <td>0</td>\n",
       "      <td>1</td>\n",
       "      <td>3.299067</td>\n",
       "      <td>0.256953</td>\n",
       "      <td>1</td>\n",
       "    </tr>\n",
       "    <tr>\n",
       "      <th>19</th>\n",
       "      <td>-0.399832</td>\n",
       "      <td>1</td>\n",
       "      <td>2</td>\n",
       "      <td>1</td>\n",
       "      <td>2</td>\n",
       "      <td>3</td>\n",
       "      <td>0.056265</td>\n",
       "      <td>0.256953</td>\n",
       "      <td>5</td>\n",
       "    </tr>\n",
       "    <tr>\n",
       "      <th>20</th>\n",
       "      <td>1.095360</td>\n",
       "      <td>1</td>\n",
       "      <td>2</td>\n",
       "      <td>1</td>\n",
       "      <td>0</td>\n",
       "      <td>3</td>\n",
       "      <td>-0.403094</td>\n",
       "      <td>-0.987573</td>\n",
       "      <td>1</td>\n",
       "    </tr>\n",
       "    <tr>\n",
       "      <th>21</th>\n",
       "      <td>0.743550</td>\n",
       "      <td>1</td>\n",
       "      <td>2</td>\n",
       "      <td>2</td>\n",
       "      <td>2</td>\n",
       "      <td>0</td>\n",
       "      <td>-0.221264</td>\n",
       "      <td>-1.236478</td>\n",
       "      <td>5</td>\n",
       "    </tr>\n",
       "    <tr>\n",
       "      <th>22</th>\n",
       "      <td>1.095360</td>\n",
       "      <td>1</td>\n",
       "      <td>1</td>\n",
       "      <td>2</td>\n",
       "      <td>0</td>\n",
       "      <td>0</td>\n",
       "      <td>-0.365168</td>\n",
       "      <td>-0.904604</td>\n",
       "      <td>1</td>\n",
       "    </tr>\n",
       "    <tr>\n",
       "      <th>23</th>\n",
       "      <td>0.743550</td>\n",
       "      <td>1</td>\n",
       "      <td>2</td>\n",
       "      <td>1</td>\n",
       "      <td>1</td>\n",
       "      <td>1</td>\n",
       "      <td>-0.520060</td>\n",
       "      <td>-0.738668</td>\n",
       "      <td>1</td>\n",
       "    </tr>\n",
       "    <tr>\n",
       "      <th>24</th>\n",
       "      <td>-0.839594</td>\n",
       "      <td>1</td>\n",
       "      <td>2</td>\n",
       "      <td>1</td>\n",
       "      <td>4</td>\n",
       "      <td>3</td>\n",
       "      <td>-0.426132</td>\n",
       "      <td>-0.904604</td>\n",
       "      <td>4</td>\n",
       "    </tr>\n",
       "    <tr>\n",
       "      <th>25</th>\n",
       "      <td>0.039930</td>\n",
       "      <td>1</td>\n",
       "      <td>1</td>\n",
       "      <td>1</td>\n",
       "      <td>0</td>\n",
       "      <td>0</td>\n",
       "      <td>-0.672471</td>\n",
       "      <td>-1.236478</td>\n",
       "      <td>4</td>\n",
       "    </tr>\n",
       "    <tr>\n",
       "      <th>26</th>\n",
       "      <td>0.303788</td>\n",
       "      <td>1</td>\n",
       "      <td>1</td>\n",
       "      <td>1</td>\n",
       "      <td>0</td>\n",
       "      <td>3</td>\n",
       "      <td>-1.008483</td>\n",
       "      <td>-1.236478</td>\n",
       "      <td>5</td>\n",
       "    </tr>\n",
       "    <tr>\n",
       "      <th>27</th>\n",
       "      <td>0.567645</td>\n",
       "      <td>0</td>\n",
       "      <td>2</td>\n",
       "      <td>2</td>\n",
       "      <td>3</td>\n",
       "      <td>2</td>\n",
       "      <td>-1.014508</td>\n",
       "      <td>-0.738668</td>\n",
       "      <td>5</td>\n",
       "    </tr>\n",
       "    <tr>\n",
       "      <th>28</th>\n",
       "      <td>-0.135974</td>\n",
       "      <td>1</td>\n",
       "      <td>2</td>\n",
       "      <td>1</td>\n",
       "      <td>0</td>\n",
       "      <td>1</td>\n",
       "      <td>-0.303495</td>\n",
       "      <td>-1.153509</td>\n",
       "      <td>5</td>\n",
       "    </tr>\n",
       "    <tr>\n",
       "      <th>29</th>\n",
       "      <td>2.414647</td>\n",
       "      <td>1</td>\n",
       "      <td>2</td>\n",
       "      <td>1</td>\n",
       "      <td>0</td>\n",
       "      <td>0</td>\n",
       "      <td>1.263499</td>\n",
       "      <td>3.243815</td>\n",
       "      <td>0</td>\n",
       "    </tr>\n",
       "    <tr>\n",
       "      <th>30</th>\n",
       "      <td>0.039930</td>\n",
       "      <td>1</td>\n",
       "      <td>2</td>\n",
       "      <td>1</td>\n",
       "      <td>3</td>\n",
       "      <td>1</td>\n",
       "      <td>-0.481426</td>\n",
       "      <td>-0.240857</td>\n",
       "      <td>0</td>\n",
       "    </tr>\n",
       "    <tr>\n",
       "      <th>31</th>\n",
       "      <td>-0.751642</td>\n",
       "      <td>1</td>\n",
       "      <td>2</td>\n",
       "      <td>1</td>\n",
       "      <td>0</td>\n",
       "      <td>0</td>\n",
       "      <td>0.265387</td>\n",
       "      <td>0.256953</td>\n",
       "      <td>4</td>\n",
       "    </tr>\n",
       "    <tr>\n",
       "      <th>32</th>\n",
       "      <td>-0.487784</td>\n",
       "      <td>1</td>\n",
       "      <td>2</td>\n",
       "      <td>1</td>\n",
       "      <td>1</td>\n",
       "      <td>1</td>\n",
       "      <td>0.919689</td>\n",
       "      <td>-0.240857</td>\n",
       "      <td>1</td>\n",
       "    </tr>\n",
       "    <tr>\n",
       "      <th>33</th>\n",
       "      <td>1.886932</td>\n",
       "      <td>1</td>\n",
       "      <td>1</td>\n",
       "      <td>2</td>\n",
       "      <td>4</td>\n",
       "      <td>3</td>\n",
       "      <td>-0.711459</td>\n",
       "      <td>-0.738668</td>\n",
       "      <td>0</td>\n",
       "    </tr>\n",
       "    <tr>\n",
       "      <th>34</th>\n",
       "      <td>-0.223927</td>\n",
       "      <td>0</td>\n",
       "      <td>3</td>\n",
       "      <td>1</td>\n",
       "      <td>0</td>\n",
       "      <td>2</td>\n",
       "      <td>-0.637026</td>\n",
       "      <td>-0.738668</td>\n",
       "      <td>4</td>\n",
       "    </tr>\n",
       "    <tr>\n",
       "      <th>35</th>\n",
       "      <td>-0.927547</td>\n",
       "      <td>1</td>\n",
       "      <td>1</td>\n",
       "      <td>1</td>\n",
       "      <td>0</td>\n",
       "      <td>1</td>\n",
       "      <td>0.522713</td>\n",
       "      <td>1.999289</td>\n",
       "      <td>5</td>\n",
       "    </tr>\n",
       "    <tr>\n",
       "      <th>36</th>\n",
       "      <td>-0.399832</td>\n",
       "      <td>1</td>\n",
       "      <td>2</td>\n",
       "      <td>0</td>\n",
       "      <td>0</td>\n",
       "      <td>3</td>\n",
       "      <td>1.006173</td>\n",
       "      <td>2.248194</td>\n",
       "      <td>3</td>\n",
       "    </tr>\n",
       "    <tr>\n",
       "      <th>37</th>\n",
       "      <td>0.127883</td>\n",
       "      <td>1</td>\n",
       "      <td>2</td>\n",
       "      <td>1</td>\n",
       "      <td>0</td>\n",
       "      <td>2</td>\n",
       "      <td>-0.415145</td>\n",
       "      <td>-0.240857</td>\n",
       "      <td>5</td>\n",
       "    </tr>\n",
       "    <tr>\n",
       "      <th>38</th>\n",
       "      <td>0.127883</td>\n",
       "      <td>1</td>\n",
       "      <td>2</td>\n",
       "      <td>1</td>\n",
       "      <td>0</td>\n",
       "      <td>2</td>\n",
       "      <td>-0.725283</td>\n",
       "      <td>-0.904604</td>\n",
       "      <td>2</td>\n",
       "    </tr>\n",
       "    <tr>\n",
       "      <th>39</th>\n",
       "      <td>-1.015499</td>\n",
       "      <td>1</td>\n",
       "      <td>2</td>\n",
       "      <td>1</td>\n",
       "      <td>0</td>\n",
       "      <td>1</td>\n",
       "      <td>-0.997141</td>\n",
       "      <td>-0.987573</td>\n",
       "      <td>5</td>\n",
       "    </tr>\n",
       "    <tr>\n",
       "      <th>40</th>\n",
       "      <td>-0.487784</td>\n",
       "      <td>1</td>\n",
       "      <td>3</td>\n",
       "      <td>1</td>\n",
       "      <td>2</td>\n",
       "      <td>3</td>\n",
       "      <td>-0.332559</td>\n",
       "      <td>0.754763</td>\n",
       "      <td>5</td>\n",
       "    </tr>\n",
       "    <tr>\n",
       "      <th>41</th>\n",
       "      <td>-0.839594</td>\n",
       "      <td>1</td>\n",
       "      <td>2</td>\n",
       "      <td>1</td>\n",
       "      <td>2</td>\n",
       "      <td>1</td>\n",
       "      <td>-0.749030</td>\n",
       "      <td>-0.738668</td>\n",
       "      <td>5</td>\n",
       "    </tr>\n",
       "    <tr>\n",
       "      <th>42</th>\n",
       "      <td>0.743550</td>\n",
       "      <td>1</td>\n",
       "      <td>1</td>\n",
       "      <td>1</td>\n",
       "      <td>0</td>\n",
       "      <td>1</td>\n",
       "      <td>1.039491</td>\n",
       "      <td>-0.240857</td>\n",
       "      <td>6</td>\n",
       "    </tr>\n",
       "    <tr>\n",
       "      <th>43</th>\n",
       "      <td>-1.015499</td>\n",
       "      <td>1</td>\n",
       "      <td>2</td>\n",
       "      <td>2</td>\n",
       "      <td>1</td>\n",
       "      <td>0</td>\n",
       "      <td>1.033465</td>\n",
       "      <td>0.754763</td>\n",
       "      <td>1</td>\n",
       "    </tr>\n",
       "    <tr>\n",
       "      <th>44</th>\n",
       "      <td>1.974884</td>\n",
       "      <td>0</td>\n",
       "      <td>1</td>\n",
       "      <td>0</td>\n",
       "      <td>0</td>\n",
       "      <td>0</td>\n",
       "      <td>1.017870</td>\n",
       "      <td>2.248194</td>\n",
       "      <td>1</td>\n",
       "    </tr>\n",
       "    <tr>\n",
       "      <th>45</th>\n",
       "      <td>-0.048022</td>\n",
       "      <td>0</td>\n",
       "      <td>3</td>\n",
       "      <td>1</td>\n",
       "      <td>0</td>\n",
       "      <td>3</td>\n",
       "      <td>-0.665736</td>\n",
       "      <td>-0.821636</td>\n",
       "      <td>1</td>\n",
       "    </tr>\n",
       "    <tr>\n",
       "      <th>46</th>\n",
       "      <td>0.303788</td>\n",
       "      <td>1</td>\n",
       "      <td>2</td>\n",
       "      <td>1</td>\n",
       "      <td>2</td>\n",
       "      <td>3</td>\n",
       "      <td>-0.344610</td>\n",
       "      <td>1.252574</td>\n",
       "      <td>5</td>\n",
       "    </tr>\n",
       "    <tr>\n",
       "      <th>47</th>\n",
       "      <td>-1.103451</td>\n",
       "      <td>0</td>\n",
       "      <td>0</td>\n",
       "      <td>2</td>\n",
       "      <td>2</td>\n",
       "      <td>0</td>\n",
       "      <td>-0.680268</td>\n",
       "      <td>-1.236478</td>\n",
       "      <td>1</td>\n",
       "    </tr>\n",
       "    <tr>\n",
       "      <th>48</th>\n",
       "      <td>0.303788</td>\n",
       "      <td>1</td>\n",
       "      <td>1</td>\n",
       "      <td>1</td>\n",
       "      <td>0</td>\n",
       "      <td>3</td>\n",
       "      <td>1.402441</td>\n",
       "      <td>-0.821636</td>\n",
       "      <td>1</td>\n",
       "    </tr>\n",
       "    <tr>\n",
       "      <th>49</th>\n",
       "      <td>-0.663689</td>\n",
       "      <td>0</td>\n",
       "      <td>2</td>\n",
       "      <td>1</td>\n",
       "      <td>1</td>\n",
       "      <td>3</td>\n",
       "      <td>-0.424715</td>\n",
       "      <td>-0.738668</td>\n",
       "      <td>5</td>\n",
       "    </tr>\n",
       "  </tbody>\n",
       "</table>\n",
       "</div>"
      ],
      "text/plain": [
       "         Age  Sex  Job  Housing  Saving accounts  Checking account  \\\n",
       "0   2.766456    1    2        1                4                 0   \n",
       "1  -1.191404    0    2        1                0                 1   \n",
       "2   1.183312    1    1        1                0                 3   \n",
       "3   0.831502    1    2        0                0                 0   \n",
       "4   1.535122    1    2        0                0                 0   \n",
       "5  -0.048022    1    1        0                4                 3   \n",
       "6   1.535122    1    2        1                2                 3   \n",
       "7  -0.048022    1    3        2                0                 1   \n",
       "8   2.238742    1    1        1                3                 3   \n",
       "9  -0.663689    1    3        1                0                 1   \n",
       "10 -0.927547    0    2        2                0                 1   \n",
       "11 -1.015499    0    2        2                0                 0   \n",
       "12 -1.191404    0    2        1                0                 1   \n",
       "13  2.150789    1    1        1                0                 0   \n",
       "14 -0.663689    0    2        2                0                 0   \n",
       "15 -0.311879    0    1        1                1                 0   \n",
       "16  1.535122    1    2        1                4                 3   \n",
       "17 -0.927547    1    2        1                4                 0   \n",
       "18  0.743550    0    3        0                0                 1   \n",
       "19 -0.399832    1    2        1                2                 3   \n",
       "20  1.095360    1    2        1                0                 3   \n",
       "21  0.743550    1    2        2                2                 0   \n",
       "22  1.095360    1    1        2                0                 0   \n",
       "23  0.743550    1    2        1                1                 1   \n",
       "24 -0.839594    1    2        1                4                 3   \n",
       "25  0.039930    1    1        1                0                 0   \n",
       "26  0.303788    1    1        1                0                 3   \n",
       "27  0.567645    0    2        2                3                 2   \n",
       "28 -0.135974    1    2        1                0                 1   \n",
       "29  2.414647    1    2        1                0                 0   \n",
       "30  0.039930    1    2        1                3                 1   \n",
       "31 -0.751642    1    2        1                0                 0   \n",
       "32 -0.487784    1    2        1                1                 1   \n",
       "33  1.886932    1    1        2                4                 3   \n",
       "34 -0.223927    0    3        1                0                 2   \n",
       "35 -0.927547    1    1        1                0                 1   \n",
       "36 -0.399832    1    2        0                0                 3   \n",
       "37  0.127883    1    2        1                0                 2   \n",
       "38  0.127883    1    2        1                0                 2   \n",
       "39 -1.015499    1    2        1                0                 1   \n",
       "40 -0.487784    1    3        1                2                 3   \n",
       "41 -0.839594    1    2        1                2                 1   \n",
       "42  0.743550    1    1        1                0                 1   \n",
       "43 -1.015499    1    2        2                1                 0   \n",
       "44  1.974884    0    1        0                0                 0   \n",
       "45 -0.048022    0    3        1                0                 3   \n",
       "46  0.303788    1    2        1                2                 3   \n",
       "47 -1.103451    0    0        2                2                 0   \n",
       "48  0.303788    1    1        1                0                 3   \n",
       "49 -0.663689    0    2        1                1                 3   \n",
       "\n",
       "    Credit amount  Duration  Purpose  \n",
       "0       -0.745131 -1.236478        5  \n",
       "1        0.949817  2.248194        5  \n",
       "2       -0.416562 -0.738668        3  \n",
       "3        1.634247  1.750384        4  \n",
       "4        0.566664  0.256953        1  \n",
       "5        2.050009  1.252574        3  \n",
       "6       -0.154629  0.256953        4  \n",
       "7        1.303197  1.252574        1  \n",
       "8       -0.075233 -0.738668        5  \n",
       "9        0.695681  0.754763        1  \n",
       "10      -0.700472 -0.738668        1  \n",
       "11       0.367466  2.248194        0  \n",
       "12      -0.604063 -0.738668        5  \n",
       "13      -0.734498  0.256953        1  \n",
       "14      -0.662192 -0.489762        1  \n",
       "15      -0.705079  0.256953        5  \n",
       "16      -0.300305  0.256953        5  \n",
       "17       1.701591  0.754763        0  \n",
       "18       3.299067  0.256953        1  \n",
       "19       0.056265  0.256953        5  \n",
       "20      -0.403094 -0.987573        1  \n",
       "21      -0.221264 -1.236478        5  \n",
       "22      -0.365168 -0.904604        1  \n",
       "23      -0.520060 -0.738668        1  \n",
       "24      -0.426132 -0.904604        4  \n",
       "25      -0.672471 -1.236478        4  \n",
       "26      -1.008483 -1.236478        5  \n",
       "27      -1.014508 -0.738668        5  \n",
       "28      -0.303495 -1.153509        5  \n",
       "29       1.263499  3.243815        0  \n",
       "30      -0.481426 -0.240857        0  \n",
       "31       0.265387  0.256953        4  \n",
       "32       0.919689 -0.240857        1  \n",
       "33      -0.711459 -0.738668        0  \n",
       "34      -0.637026 -0.738668        4  \n",
       "35       0.522713  1.999289        5  \n",
       "36       1.006173  2.248194        3  \n",
       "37      -0.415145 -0.240857        5  \n",
       "38      -0.725283 -0.904604        2  \n",
       "39      -0.997141 -0.987573        5  \n",
       "40      -0.332559  0.754763        5  \n",
       "41      -0.749030 -0.738668        5  \n",
       "42       1.039491 -0.240857        6  \n",
       "43       1.033465  0.754763        1  \n",
       "44       1.017870  2.248194        1  \n",
       "45      -0.665736 -0.821636        1  \n",
       "46      -0.344610  1.252574        5  \n",
       "47      -0.680268 -1.236478        1  \n",
       "48       1.402441 -0.821636        1  \n",
       "49      -0.424715 -0.738668        5  "
      ]
     },
     "execution_count": 6,
     "metadata": {},
     "output_type": "execute_result"
    }
   ],
   "source": [
    "scaler = StandardScaler()\n",
    "num_cols = ['Age', 'Credit amount', 'Duration']\n",
    "df[num_cols] = scaler.fit_transform(df[num_cols])\n",
    "df.head(50)"
   ]
  },
  {
   "cell_type": "markdown",
   "id": "f0242384",
   "metadata": {},
   "source": [
    "## 📊 Visualisation de la Répartition des Variables Catégorielles\n",
    "\n",
    "Nous affichons des graphiques en barres (`countplot`) pour visualiser la distribution de chaque variable catégorielle :  \n",
    "- `Sex`  \n",
    "- `Housing`  \n",
    "- `Saving accounts`  \n",
    "- `Checking account`  \n",
    "- `Purpose`  \n",
    "\n",
    "Cela permet de mieux comprendre la composition des données et de détecter d’éventuels déséquilibres.\n"
   ]
  },
  {
   "cell_type": "code",
   "execution_count": 7,
   "id": "26674d06",
   "metadata": {},
   "outputs": [
    {
     "data": {
      "image/png": "[encoded data removed]",
      "text/plain": [
       "<Figure size 2000x400 with 5 Axes>"
      ]
     },
     "metadata": {},
     "output_type": "display_data"
    }
   ],
   "source": [
    "cat_cols = ['Sex', 'Housing', 'Saving accounts', 'Checking account', 'Purpose']\n",
    "fig, axes = plt.subplots(1, len(cat_cols), figsize=(20, 4))\n",
    "for i, col in enumerate(cat_cols):\n",
    "    sns.countplot(data=df, x=col, ax=axes[i])\n",
    "    axes[i].set_title(f\"Répartition de {col}\")\n",
    "    axes[i].tick_params(axis='x', rotation=45)\n",
    "plt.tight_layout()\n",
    "plt.show()"
   ]
  },
  {
   "cell_type": "markdown",
   "id": "c8fd3ae2",
   "metadata": {},
   "source": [
    "## 🧠 Interprétation des Variables Catégorielles\n",
    "\n",
    "### 🧍‍♂️ Sex  \n",
    "La majorité des clients sont des hommes, ce qui se reflète par une barre significativement plus haute que celle des femmes.\n",
    "\n",
    "### 🏠 Housing  \n",
    "La plupart des clients **sont propriétaires** de leur logement. Une part plus faible loue ou bénéficie d’un logement gratuit.\n",
    "\n",
    "### 💰 Saving Accounts  \n",
    "Beaucoup de clients disposent de **peu ou pas d’épargne**. Les comptes avec des économies élevées sont peu fréquents.\n",
    "\n",
    "### 🏦 Checking Account  \n",
    "Même tendance que pour les comptes d’épargne : **faible solde ou aucun compte courant** pour la majorité des clients.\n",
    "\n",
    "### 🎯 Purpose  \n",
    "Les prêts sont majoritairement destinés à l’achat de **voitures** ou de **meubles**. Les autres motifs (éducation, etc.) sont moins fréquents.\n",
    "\n",
    "---\n",
    "\n",
    "### ✅ Points Clés\n",
    "\n",
    "- **Profil type du client** : Homme, propriétaire, avec peu d’épargne ou de fonds disponibles.  \n",
    "- **Objectif des prêts** : Principalement pour des **biens matériels** (voiture, mobilier).  \n",
    "- **Indicateur de risque potentiel** : Les faibles soldes sur les comptes peuvent signaler une **fragilité financière**."
   ]
  },
  {
   "cell_type": "code",
   "execution_count": 8,
   "id": "d4ca8cfb",
   "metadata": {},
   "outputs": [
    {
     "data": {
      "image/png": "[encoded data removed]",
      "text/plain": [
       "<Figure size 800x600 with 2 Axes>"
      ]
     },
     "metadata": {},
     "output_type": "display_data"
    }
   ],
   "source": [
    "plt.figure(figsize=(8,6))\n",
    "sns.heatmap(df[num_cols].corr(), annot=True, cmap='coolwarm')\n",
    "plt.title(\"Matrice de corrélation des variables numériques\")\n",
    "plt.show()"
   ]
  },
  {
   "cell_type": "markdown",
   "id": "44d908df",
   "metadata": {},
   "source": [
    "## 🔗 Analyse de la Matrice de Corrélation\n",
    "\n",
    "| 📊 Variable 1     | 📊 Variable 2     | 🔢 Corrélation | 🧠 Interprétation                  |\n",
    "|------------------|------------------|----------------|-----------------------------------|\n",
    "| Age              | Duration         | -0.036         | Corrélation négligeable           |\n",
    "| Age              | Credit amount    | +0.033         | Corrélation négligeable           |\n",
    "| Duration         | Credit amount    | **+0.62**      | Corrélation fortement positive    |\n",
    "\n",
    "---\n",
    "\n",
    "### ✅ Insights Clés\n",
    "\n",
    "#### 📈 `Duration` vs `Credit amount` (**+0.62**)\n",
    "- Il existe une **relation positive forte** entre la durée du prêt et le montant emprunté.\n",
    "- Cela est logique du point de vue métier : les **prêts plus importants** (ex : hypothèques) sont souvent accordés avec **des durées de remboursement plus longues**.\n",
    "\n",
    "#### 👤 `Age` vs `Duration` / `Credit amount`\n",
    "- Les corrélations sont proches de **zéro** (−0.036 et +0.033), indiquant :\n",
    "  - **Aucune relation linéaire significative** entre l'âge du client et la taille ou la durée du prêt.\n",
    "\n",
    "---\n",
    "\n",
    "### 💼 Implications Métier\n",
    "\n",
    "- **📅 Tarification des Prêts** :\n",
    "  - La forte corrélation **durée ↔ montant** suggère que les **prêts plus importants devraient avoir des durées plus longues** par défaut.\n",
    "  - La **durée** peut servir de **proxy pour estimer le montant du prêt** dans les modèles de risque.\n",
    "\n",
    "- **👥 Profilage Client** :\n",
    "  - L'**âge n’est pas un bon prédicteur** des caractéristiques du prêt.\n",
    "  - Il est plus pertinent de se concentrer sur des variables comme **le revenu** ou **l’objet du prêt**.\n",
    "\n"
   ]
  },
  {
   "cell_type": "code",
   "execution_count": 9,
   "id": "60d16b02",
   "metadata": {},
   "outputs": [
    {
     "name": "stdout",
     "output_type": "stream",
     "text": [
      "Lignes avant nettoyage : 1000\n",
      "Lignes après nettoyage : 861\n"
     ]
    }
   ],
   "source": [
    "num_cols = ['Age', 'Credit amount', 'Duration']\n",
    "def remove_outliers(df, columns):\n",
    "    df_clean = df.copy()\n",
    "    for col in columns:\n",
    "        Q1 = df_clean[col].quantile(0.25)\n",
    "        Q3 = df_clean[col].quantile(0.75)\n",
    "        IQR = Q3 - Q1\n",
    "        lower_bound = Q1 - 1.5 * IQR\n",
    "        upper_bound = Q3 + 1.5 * IQR\n",
    "\n",
    "        df_clean = df_clean[(df_clean[col] >= lower_bound) & (df_clean[col] <= upper_bound)]\n",
    "    \n",
    "    return df_clean\n",
    "\n",
    "df_clean = remove_outliers(df, num_cols)\n",
    "print(f\"Lignes avant nettoyage : {len(df)}\")\n",
    "print(f\"Lignes après nettoyage : {len(df_clean)}\")"
   ]
  },
  {
   "cell_type": "markdown",
   "id": "a9c02e1d",
   "metadata": {},
   "source": [
    "## 🧼 Suppression des Valeurs Aberrantes (Outliers)\n",
    "\n",
    "Nous appliquons la méthode de l'**écart interquartile (IQR)** pour détecter et supprimer les **valeurs aberrantes** sur les variables numériques suivantes :\n",
    "\n",
    "- `Age`\n",
    "- `Credit amount`\n",
    "- `Duration`\n",
    "\n",
    "🔎 **Méthode** :\n",
    "Pour chaque variable :\n",
    "- Calcul des 1er (Q1) et 3e quartiles (Q3)\n",
    "- Calcul de l'IQR = Q3 - Q1\n",
    "- Définition des bornes :\n",
    "  - **Borne inférieure** : Q1 - 1.5 × IQR  \n",
    "  - **Borne supérieure** : Q3 + 1.5 × IQR  \n",
    "- Suppression des lignes contenant des valeurs en dehors de cet intervalle\n",
    "\n",
    "📊 Cela permet de **nettoyer le dataset** et de limiter l’impact des extrêmes sur l’entraînement du modèle."
   ]
  },
  {
   "cell_type": "markdown",
   "id": "8064c7ac",
   "metadata": {},
   "source": [
    "## 🚦 Préparation des Données pour l'Apprentissage\n",
    "\n",
    "- Nous définissons la **variable cible** `y` comme une variable binaire indiquant si le montant du crédit est supérieur à la médiane (`1` pour montant élevé, `0` sinon).\n",
    "- Les **features** `X` correspondent à toutes les colonnes sauf `Credit amount`.\n",
    "- Ensuite, nous séparons les données en **ensemble d'entraînement** (80%) et **ensemble de test** (20%) avec une graine aléatoire fixe (`random_state=42`) pour garantir la reproductibilité.\n",
    "\n",
    "Cette étape est essentielle pour évaluer la performance du modèle sur des données jamais vues.\n"
   ]
  },
  {
   "cell_type": "code",
   "execution_count": 10,
   "id": "580ab7f7",
   "metadata": {},
   "outputs": [],
   "source": [
    "X = df_clean.drop(columns=['Credit amount'])\n",
    "y = (df_clean['Credit amount'] > df['Credit amount'].median()).astype(int)\n",
    "X_train, X_test, y_train, y_test = train_test_split(X, y, test_size=0.2, random_state=42)"
   ]
  },
  {
   "cell_type": "markdown",
   "id": "f441b930",
   "metadata": {},
   "source": [
    "## 🤖 Construction du Modèle de Réseau de Neurones (ANN)\n",
    "\n",
    "- Modèle séquentiel avec 3 couches :\n",
    "  - **Couche Dense** de 64 neurones avec activation ReLU, adaptée à la couche d’entrée (nombre de features).\n",
    "  - **Dropout** à 20% pour réduire le surapprentissage (overfitting).\n",
    "  - **Couche Dense** de 32 neurones avec activation ReLU.\n",
    "  - **Dropout** à 20% encore pour régularisation.\n",
    "  - **Couche de sortie** avec 1 neurone et activation sigmoïde, adaptée à un problème de classification binaire.\n",
    "\n",
    "- Compilation avec :\n",
    "  - Optimiseur **Adam** (taux d’apprentissage 0.001).\n",
    "  - Fonction de perte **binary_crossentropy** (classification binaire).\n",
    "  - Métrique d’évaluation : **accuracy** (précision).\n"
   ]
  },
  {
   "cell_type": "code",
   "execution_count": 11,
   "id": "8fb25b88",
   "metadata": {},
   "outputs": [
    {
     "name": "stderr",
     "output_type": "stream",
     "text": [
      "c:\\Users\\ahnid\\AppData\\Local\\Programs\\Python\\Python312\\Lib\\site-packages\\keras\\src\\layers\\core\\dense.py:93: UserWarning: Do not pass an `input_shape`/`input_dim` argument to a layer. When using Sequential models, prefer using an `Input(shape)` object as the first layer in the model instead.\n",
      "  super().__init__(activity_regularizer=activity_regularizer, **kwargs)\n"
     ]
    }
   ],
   "source": [
    "model = Sequential()\n",
    "model.add(Dense(64, activation='relu', input_shape=(X_train.shape[1],)))\n",
    "model.add(Dropout(0.2))\n",
    "model.add(Dense(32, activation='relu'))\n",
    "model.add(Dropout(0.2))\n",
    "model.add(Dense(1, activation='sigmoid'))\n",
    "model.compile(optimizer=Adam(learning_rate=0.001), loss='binary_crossentropy', metrics=['accuracy'])"
   ]
  },
  {
   "cell_type": "markdown",
   "id": "72c442a6",
   "metadata": {},
   "source": [
    "## 🏋️ Entraînement du Modèle\n",
    "\n",
    "- Entraînement du réseau de neurones sur les données d’entraînement (`X_train`, `y_train`)  \n",
    "- Nombre d’**époques** : 50 (le modèle passe 50 fois sur tout le dataset)  \n",
    "- **Taille du batch** : 32 (le nombre d’échantillons traités avant mise à jour des poids)  \n",
    "- Validation interne sur 20% des données d’entraînement (`validation_split=0.2`) pour suivre la performance sur un set non vu pendant l’entraînement  \n",
    "- Affichage détaillé des progrès (`verbose=1`)\n"
   ]
  },
  {
   "cell_type": "code",
   "execution_count": 13,
   "id": "29ddae38",
   "metadata": {},
   "outputs": [
    {
     "name": "stdout",
     "output_type": "stream",
     "text": [
      "Epoch 1/50\n",
      "\u001b[1m18/18\u001b[0m \u001b[32m━━━━━━━━━━━━━━━━━━━━\u001b[0m\u001b[37m\u001b[0m \u001b[1m3s\u001b[0m 23ms/step - accuracy: 0.5425 - loss: 0.7995 - val_accuracy: 0.5797 - val_loss: 0.6843\n",
      "Epoch 2/50\n",
      "\u001b[1m18/18\u001b[0m \u001b[32m━━━━━━━━━━━━━━━━━━━━\u001b[0m\u001b[37m\u001b[0m \u001b[1m0s\u001b[0m 8ms/step - accuracy: 0.4976 - loss: 0.7200 - val_accuracy: 0.6449 - val_loss: 0.6678\n",
      "Epoch 3/50\n",
      "\u001b[1m18/18\u001b[0m \u001b[32m━━━━━━━━━━━━━━━━━━━━\u001b[0m\u001b[37m\u001b[0m \u001b[1m0s\u001b[0m 8ms/step - accuracy: 0.5311 - loss: 0.7059 - val_accuracy: 0.6594 - val_loss: 0.6575\n",
      "Epoch 4/50\n",
      "\u001b[1m18/18\u001b[0m \u001b[32m━━━━━━━━━━━━━━━━━━━━\u001b[0m\u001b[37m\u001b[0m \u001b[1m0s\u001b[0m 9ms/step - accuracy: 0.5929 - loss: 0.6704 - val_accuracy: 0.6594 - val_loss: 0.6446\n",
      "Epoch 5/50\n",
      "\u001b[1m18/18\u001b[0m \u001b[32m━━━━━━━━━━━━━━━━━━━━\u001b[0m\u001b[37m\u001b[0m \u001b[1m0s\u001b[0m 9ms/step - accuracy: 0.5783 - loss: 0.6648 - val_accuracy: 0.6522 - val_loss: 0.6338\n",
      "Epoch 6/50\n",
      "\u001b[1m18/18\u001b[0m \u001b[32m━━━━━━━━━━━━━━━━━━━━\u001b[0m\u001b[37m\u001b[0m \u001b[1m0s\u001b[0m 8ms/step - accuracy: 0.6249 - loss: 0.6580 - val_accuracy: 0.6594 - val_loss: 0.6263\n",
      "Epoch 7/50\n",
      "\u001b[1m18/18\u001b[0m \u001b[32m━━━━━━━━━━━━━━━━━━━━\u001b[0m\u001b[37m\u001b[0m \u001b[1m0s\u001b[0m 7ms/step - accuracy: 0.6426 - loss: 0.6303 - val_accuracy: 0.6594 - val_loss: 0.6108\n",
      "Epoch 8/50\n",
      "\u001b[1m18/18\u001b[0m \u001b[32m━━━━━━━━━━━━━━━━━━━━\u001b[0m\u001b[37m\u001b[0m \u001b[1m0s\u001b[0m 8ms/step - accuracy: 0.6609 - loss: 0.6242 - val_accuracy: 0.6812 - val_loss: 0.5957\n",
      "Epoch 9/50\n",
      "\u001b[1m18/18\u001b[0m \u001b[32m━━━━━━━━━━━━━━━━━━━━\u001b[0m\u001b[37m\u001b[0m \u001b[1m0s\u001b[0m 8ms/step - accuracy: 0.6819 - loss: 0.6154 - val_accuracy: 0.6739 - val_loss: 0.5862\n",
      "Epoch 10/50\n",
      "\u001b[1m18/18\u001b[0m \u001b[32m━━━━━━━━━━━━━━━━━━━━\u001b[0m\u001b[37m\u001b[0m \u001b[1m0s\u001b[0m 8ms/step - accuracy: 0.6853 - loss: 0.6090 - val_accuracy: 0.6957 - val_loss: 0.5768\n",
      "Epoch 11/50\n",
      "\u001b[1m18/18\u001b[0m \u001b[32m━━━━━━━━━━━━━━━━━━━━\u001b[0m\u001b[37m\u001b[0m \u001b[1m0s\u001b[0m 14ms/step - accuracy: 0.6907 - loss: 0.6038 - val_accuracy: 0.6667 - val_loss: 0.5750\n",
      "Epoch 12/50\n",
      "\u001b[1m18/18\u001b[0m \u001b[32m━━━━━━━━━━━━━━━━━━━━\u001b[0m\u001b[37m\u001b[0m \u001b[1m0s\u001b[0m 8ms/step - accuracy: 0.7327 - loss: 0.5713 - val_accuracy: 0.6884 - val_loss: 0.5695\n",
      "Epoch 13/50\n",
      "\u001b[1m18/18\u001b[0m \u001b[32m━━━━━━━━━━━━━━━━━━━━\u001b[0m\u001b[37m\u001b[0m \u001b[1m0s\u001b[0m 7ms/step - accuracy: 0.7438 - loss: 0.5408 - val_accuracy: 0.6739 - val_loss: 0.5743\n",
      "Epoch 14/50\n",
      "\u001b[1m18/18\u001b[0m \u001b[32m━━━━━━━━━━━━━━━━━━━━\u001b[0m\u001b[37m\u001b[0m \u001b[1m0s\u001b[0m 7ms/step - accuracy: 0.7541 - loss: 0.5600 - val_accuracy: 0.6957 - val_loss: 0.5692\n",
      "Epoch 15/50\n",
      "\u001b[1m18/18\u001b[0m \u001b[32m━━━━━━━━━━━━━━━━━━━━\u001b[0m\u001b[37m\u001b[0m \u001b[1m0s\u001b[0m 7ms/step - accuracy: 0.7122 - loss: 0.5690 - val_accuracy: 0.6594 - val_loss: 0.5717\n",
      "Epoch 16/50\n",
      "\u001b[1m18/18\u001b[0m \u001b[32m━━━━━━━━━━━━━━━━━━━━\u001b[0m\u001b[37m\u001b[0m \u001b[1m0s\u001b[0m 6ms/step - accuracy: 0.7631 - loss: 0.5261 - val_accuracy: 0.6667 - val_loss: 0.5705\n",
      "Epoch 17/50\n",
      "\u001b[1m18/18\u001b[0m \u001b[32m━━━━━━━━━━━━━━━━━━━━\u001b[0m\u001b[37m\u001b[0m \u001b[1m0s\u001b[0m 7ms/step - accuracy: 0.7633 - loss: 0.5193 - val_accuracy: 0.6812 - val_loss: 0.5725\n",
      "Epoch 18/50\n",
      "\u001b[1m18/18\u001b[0m \u001b[32m━━━━━━━━━━━━━━━━━━━━\u001b[0m\u001b[37m\u001b[0m \u001b[1m0s\u001b[0m 6ms/step - accuracy: 0.7506 - loss: 0.5317 - val_accuracy: 0.6884 - val_loss: 0.5753\n",
      "Epoch 19/50\n",
      "\u001b[1m18/18\u001b[0m \u001b[32m━━━━━━━━━━━━━━━━━━━━\u001b[0m\u001b[37m\u001b[0m \u001b[1m0s\u001b[0m 7ms/step - accuracy: 0.7528 - loss: 0.5300 - val_accuracy: 0.6739 - val_loss: 0.5773\n",
      "Epoch 20/50\n",
      "\u001b[1m18/18\u001b[0m \u001b[32m━━━━━━━━━━━━━━━━━━━━\u001b[0m\u001b[37m\u001b[0m \u001b[1m0s\u001b[0m 7ms/step - accuracy: 0.7109 - loss: 0.5534 - val_accuracy: 0.6594 - val_loss: 0.5775\n",
      "Epoch 21/50\n",
      "\u001b[1m18/18\u001b[0m \u001b[32m━━━━━━━━━━━━━━━━━━━━\u001b[0m\u001b[37m\u001b[0m \u001b[1m0s\u001b[0m 9ms/step - accuracy: 0.7705 - loss: 0.5385 - val_accuracy: 0.6812 - val_loss: 0.5760\n",
      "Epoch 22/50\n",
      "\u001b[1m18/18\u001b[0m \u001b[32m━━━━━━━━━━━━━━━━━━━━\u001b[0m\u001b[37m\u001b[0m \u001b[1m0s\u001b[0m 6ms/step - accuracy: 0.7400 - loss: 0.5272 - val_accuracy: 0.6812 - val_loss: 0.5786\n",
      "Epoch 23/50\n",
      "\u001b[1m18/18\u001b[0m \u001b[32m━━━━━━━━━━━━━━━━━━━━\u001b[0m\u001b[37m\u001b[0m \u001b[1m0s\u001b[0m 9ms/step - accuracy: 0.7151 - loss: 0.5707 - val_accuracy: 0.6739 - val_loss: 0.5804\n",
      "Epoch 24/50\n",
      "\u001b[1m18/18\u001b[0m \u001b[32m━━━━━━━━━━━━━━━━━━━━\u001b[0m\u001b[37m\u001b[0m \u001b[1m0s\u001b[0m 7ms/step - accuracy: 0.7237 - loss: 0.5456 - val_accuracy: 0.6449 - val_loss: 0.5857\n",
      "Epoch 25/50\n",
      "\u001b[1m18/18\u001b[0m \u001b[32m━━━━━━━━━━━━━━━━━━━━\u001b[0m\u001b[37m\u001b[0m \u001b[1m0s\u001b[0m 7ms/step - accuracy: 0.7311 - loss: 0.5482 - val_accuracy: 0.6884 - val_loss: 0.5789\n",
      "Epoch 26/50\n",
      "\u001b[1m18/18\u001b[0m \u001b[32m━━━━━━━━━━━━━━━━━━━━\u001b[0m\u001b[37m\u001b[0m \u001b[1m0s\u001b[0m 7ms/step - accuracy: 0.7623 - loss: 0.5377 - val_accuracy: 0.6522 - val_loss: 0.5811\n",
      "Epoch 27/50\n",
      "\u001b[1m18/18\u001b[0m \u001b[32m━━━━━━━━━━━━━━━━━━━━\u001b[0m\u001b[37m\u001b[0m \u001b[1m0s\u001b[0m 7ms/step - accuracy: 0.7249 - loss: 0.5672 - val_accuracy: 0.6812 - val_loss: 0.5790\n",
      "Epoch 28/50\n",
      "\u001b[1m18/18\u001b[0m \u001b[32m━━━━━━━━━━━━━━━━━━━━\u001b[0m\u001b[37m\u001b[0m \u001b[1m0s\u001b[0m 7ms/step - accuracy: 0.7726 - loss: 0.5163 - val_accuracy: 0.6957 - val_loss: 0.5810\n",
      "Epoch 29/50\n",
      "\u001b[1m18/18\u001b[0m \u001b[32m━━━━━━━━━━━━━━━━━━━━\u001b[0m\u001b[37m\u001b[0m \u001b[1m0s\u001b[0m 7ms/step - accuracy: 0.7633 - loss: 0.5227 - val_accuracy: 0.6594 - val_loss: 0.5902\n",
      "Epoch 30/50\n",
      "\u001b[1m18/18\u001b[0m \u001b[32m━━━━━━━━━━━━━━━━━━━━\u001b[0m\u001b[37m\u001b[0m \u001b[1m0s\u001b[0m 7ms/step - accuracy: 0.7747 - loss: 0.5028 - val_accuracy: 0.6957 - val_loss: 0.5811\n",
      "Epoch 31/50\n",
      "\u001b[1m18/18\u001b[0m \u001b[32m━━━━━━━━━━━━━━━━━━━━\u001b[0m\u001b[37m\u001b[0m \u001b[1m0s\u001b[0m 7ms/step - accuracy: 0.7420 - loss: 0.5417 - val_accuracy: 0.6812 - val_loss: 0.5804\n",
      "Epoch 32/50\n",
      "\u001b[1m18/18\u001b[0m \u001b[32m━━━━━━━━━━━━━━━━━━━━\u001b[0m\u001b[37m\u001b[0m \u001b[1m0s\u001b[0m 7ms/step - accuracy: 0.7280 - loss: 0.5613 - val_accuracy: 0.6594 - val_loss: 0.5805\n",
      "Epoch 33/50\n",
      "\u001b[1m18/18\u001b[0m \u001b[32m━━━━━━━━━━━━━━━━━━━━\u001b[0m\u001b[37m\u001b[0m \u001b[1m0s\u001b[0m 12ms/step - accuracy: 0.7498 - loss: 0.5198 - val_accuracy: 0.6739 - val_loss: 0.5785\n",
      "Epoch 34/50\n",
      "\u001b[1m18/18\u001b[0m \u001b[32m━━━━━━━━━━━━━━━━━━━━\u001b[0m\u001b[37m\u001b[0m \u001b[1m0s\u001b[0m 6ms/step - accuracy: 0.7660 - loss: 0.5164 - val_accuracy: 0.6667 - val_loss: 0.5794\n",
      "Epoch 35/50\n",
      "\u001b[1m18/18\u001b[0m \u001b[32m━━━━━━━━━━━━━━━━━━━━\u001b[0m\u001b[37m\u001b[0m \u001b[1m0s\u001b[0m 7ms/step - accuracy: 0.7499 - loss: 0.5338 - val_accuracy: 0.6667 - val_loss: 0.5814\n",
      "Epoch 36/50\n",
      "\u001b[1m18/18\u001b[0m \u001b[32m━━━━━━━━━━━━━━━━━━━━\u001b[0m\u001b[37m\u001b[0m \u001b[1m0s\u001b[0m 7ms/step - accuracy: 0.7267 - loss: 0.5415 - val_accuracy: 0.6812 - val_loss: 0.5826\n",
      "Epoch 37/50\n",
      "\u001b[1m18/18\u001b[0m \u001b[32m━━━━━━━━━━━━━━━━━━━━\u001b[0m\u001b[37m\u001b[0m \u001b[1m0s\u001b[0m 8ms/step - accuracy: 0.7540 - loss: 0.5141 - val_accuracy: 0.6667 - val_loss: 0.5868\n",
      "Epoch 38/50\n",
      "\u001b[1m18/18\u001b[0m \u001b[32m━━━━━━━━━━━━━━━━━━━━\u001b[0m\u001b[37m\u001b[0m \u001b[1m0s\u001b[0m 9ms/step - accuracy: 0.7732 - loss: 0.4989 - val_accuracy: 0.6667 - val_loss: 0.5884\n",
      "Epoch 39/50\n",
      "\u001b[1m18/18\u001b[0m \u001b[32m━━━━━━━━━━━━━━━━━━━━\u001b[0m\u001b[37m\u001b[0m \u001b[1m0s\u001b[0m 11ms/step - accuracy: 0.7609 - loss: 0.5328 - val_accuracy: 0.6667 - val_loss: 0.5907\n",
      "Epoch 40/50\n",
      "\u001b[1m18/18\u001b[0m \u001b[32m━━━━━━━━━━━━━━━━━━━━\u001b[0m\u001b[37m\u001b[0m \u001b[1m0s\u001b[0m 8ms/step - accuracy: 0.7578 - loss: 0.5150 - val_accuracy: 0.6594 - val_loss: 0.5918\n",
      "Epoch 41/50\n",
      "\u001b[1m18/18\u001b[0m \u001b[32m━━━━━━━━━━━━━━━━━━━━\u001b[0m\u001b[37m\u001b[0m \u001b[1m0s\u001b[0m 8ms/step - accuracy: 0.7426 - loss: 0.5155 - val_accuracy: 0.6667 - val_loss: 0.5949\n",
      "Epoch 42/50\n",
      "\u001b[1m18/18\u001b[0m \u001b[32m━━━━━━━━━━━━━━━━━━━━\u001b[0m\u001b[37m\u001b[0m \u001b[1m0s\u001b[0m 7ms/step - accuracy: 0.7603 - loss: 0.5289 - val_accuracy: 0.6812 - val_loss: 0.5891\n",
      "Epoch 43/50\n",
      "\u001b[1m18/18\u001b[0m \u001b[32m━━━━━━━━━━━━━━━━━━━━\u001b[0m\u001b[37m\u001b[0m \u001b[1m0s\u001b[0m 7ms/step - accuracy: 0.7430 - loss: 0.5347 - val_accuracy: 0.6667 - val_loss: 0.5910\n",
      "Epoch 44/50\n",
      "\u001b[1m18/18\u001b[0m \u001b[32m━━━━━━━━━━━━━━━━━━━━\u001b[0m\u001b[37m\u001b[0m \u001b[1m0s\u001b[0m 9ms/step - accuracy: 0.7717 - loss: 0.4813 - val_accuracy: 0.6812 - val_loss: 0.5908\n",
      "Epoch 45/50\n",
      "\u001b[1m18/18\u001b[0m \u001b[32m━━━━━━━━━━━━━━━━━━━━\u001b[0m\u001b[37m\u001b[0m \u001b[1m0s\u001b[0m 12ms/step - accuracy: 0.7531 - loss: 0.5223 - val_accuracy: 0.6812 - val_loss: 0.5907\n",
      "Epoch 46/50\n",
      "\u001b[1m18/18\u001b[0m \u001b[32m━━━━━━━━━━━━━━━━━━━━\u001b[0m\u001b[37m\u001b[0m \u001b[1m0s\u001b[0m 9ms/step - accuracy: 0.7476 - loss: 0.5147 - val_accuracy: 0.6812 - val_loss: 0.5958\n",
      "Epoch 47/50\n",
      "\u001b[1m18/18\u001b[0m \u001b[32m━━━━━━━━━━━━━━━━━━━━\u001b[0m\u001b[37m\u001b[0m \u001b[1m0s\u001b[0m 9ms/step - accuracy: 0.7548 - loss: 0.5122 - val_accuracy: 0.6739 - val_loss: 0.5980\n",
      "Epoch 48/50\n",
      "\u001b[1m18/18\u001b[0m \u001b[32m━━━━━━━━━━━━━━━━━━━━\u001b[0m\u001b[37m\u001b[0m \u001b[1m0s\u001b[0m 8ms/step - accuracy: 0.7457 - loss: 0.5179 - val_accuracy: 0.6812 - val_loss: 0.5970\n",
      "Epoch 49/50\n",
      "\u001b[1m18/18\u001b[0m \u001b[32m━━━━━━━━━━━━━━━━━━━━\u001b[0m\u001b[37m\u001b[0m \u001b[1m0s\u001b[0m 8ms/step - accuracy: 0.7300 - loss: 0.5400 - val_accuracy: 0.6884 - val_loss: 0.5906\n",
      "Epoch 50/50\n",
      "\u001b[1m18/18\u001b[0m \u001b[32m━━━━━━━━━━━━━━━━━━━━\u001b[0m\u001b[37m\u001b[0m \u001b[1m0s\u001b[0m 16ms/step - accuracy: 0.7246 - loss: 0.5301 - val_accuracy: 0.6884 - val_loss: 0.5926\n"
     ]
    }
   ],
   "source": [
    "history = model.fit(X_train, y_train, epochs=50, batch_size=32, validation_split=0.2, verbose=1)"
   ]
  },
  {
   "cell_type": "markdown",
   "id": "fdd5437f",
   "metadata": {},
   "source": [
    "## 📈 Visualisation de l'Entraînement\n",
    "\n",
    "Ce graphique montre l’évolution de la **perte (loss)** et de la **précision (accuracy)** sur les ensembles d’entraînement et de validation au fil des époques :\n",
    "\n",
    "- La **loss train** et la **loss val** indiquent comment le modèle minimise son erreur.  \n",
    "- La **accuracy train** et la **accuracy val** mesurent la performance en classification.  \n",
    "- Suivre ces courbes permet de détecter le surapprentissage ou le sous-apprentissage."
   ]
  },
  {
   "cell_type": "code",
   "execution_count": 15,
   "id": "5f84d959",
   "metadata": {},
   "outputs": [
    {
     "data": {
      "image/png": "[encoded data removed]",
      "text/plain": [
       "<Figure size 640x480 with 1 Axes>"
      ]
     },
     "metadata": {},
     "output_type": "display_data"
    }
   ],
   "source": [
    "plt.plot(history.history['loss'], label='Loss train')\n",
    "plt.plot(history.history['val_loss'], label='Loss val')\n",
    "plt.plot(history.history['accuracy'], label='Accuracy train')\n",
    "plt.plot(history.history['val_accuracy'], label='Accuracy val')\n",
    "plt.xlabel('Epoch')\n",
    "plt.ylabel('Score')\n",
    "plt.legend()\n",
    "plt.show()"
   ]
  },
  {
   "cell_type": "markdown",
   "id": "ba8aea14",
   "metadata": {},
   "source": [
    "## 🔍 Prédiction et Matrice de Confusion\n",
    "\n",
    "- On prédit la probabilité que chaque client ait un crédit élevé avec `model.predict`.\n",
    "- On convertit ces probabilités en classes binaires (`0` ou `1`) avec un seuil de 0.5.\n",
    "- Puis on calcule la **matrice de confusion** pour comparer les prédictions aux vraies valeurs.\n",
    "\n",
    "Cette matrice nous aide à comprendre les erreurs du modèle en détail."
   ]
  },
  {
   "cell_type": "code",
   "execution_count": 20,
   "id": "7d4663c0",
   "metadata": {},
   "outputs": [
    {
     "name": "stdout",
     "output_type": "stream",
     "text": [
      "\u001b[1m6/6\u001b[0m \u001b[32m━━━━━━━━━━━━━━━━━━━━\u001b[0m\u001b[37m\u001b[0m \u001b[1m0s\u001b[0m 9ms/step \n",
      "Matrice de confusion:\n",
      " [[64 33]\n",
      " [25 51]]\n"
     ]
    }
   ],
   "source": [
    "y_pred_prob = model.predict(X_test).flatten()\n",
    "y_pred = (y_pred_prob > 0.5).astype(int)\n",
    "confusion_mat = confusion_matrix(y_test, y_pred)\n",
    "print(\"Matrice de confusion:\\n\", confusion_mat)"
   ]
  },
  {
   "cell_type": "markdown",
   "id": "936347f5",
   "metadata": {},
   "source": [
    "## 🧮 Matrice de Confusion\n",
    "\n",
    "|               | Prédit : Faible crédit | Prédit : Crédit élevé |\n",
    "|---------------|------------------------|----------------------|\n",
    "| Réel : Faible crédit  | 64 (Vrais négatifs)        | 33 (Faux positifs)       |\n",
    "| Réel : Crédit élevé   | 25 (Faux négatifs)         | 51 (Vrais positifs)      |\n",
    "\n",
    "### 📊 Interprétation\n",
    "\n",
    "- **64** : Le modèle a correctement prédit un **faible risque de crédit** (vrais négatifs).  \n",
    "- **51** : Le modèle a correctement prédit un **crédit élevé** (vrais positifs).  \n",
    "- **33** : Le modèle a prédit un **crédit élevé** alors que c'était en réalité un faible crédit (faux positifs).  \n",
    "- **25** : Le modèle a prédit un **faible crédit** alors que c'était un crédit élevé (faux négatifs).\n",
    "\n",
    "---\n",
    "\n",
    "### 🤔 Conclusion\n",
    "\n",
    "- Le modèle fait des erreurs, mais il devine correctement un peu plus de la moitié du temps.  \n",
    "- Il y a une marge d'amélioration possible, notamment pour réduire les erreurs de type faux positifs et faux négatifs.\n"
   ]
  },
  {
   "cell_type": "markdown",
   "id": "e6b0965f",
   "metadata": {},
   "source": [
    "## 🔄 Comparaison avec un Modèle de Régression Logistique\n",
    "\n",
    "- Création et entraînement d’un modèle de **régression logistique** (classique pour la classification binaire).\n",
    "- Utilisation de `max_iter=1000` pour assurer la convergence.\n",
    "- Prédiction sur l’ensemble de test.\n",
    "- Affichage d’un **rapport de classification** détaillé avec :\n",
    "  - Précision (precision)\n",
    "  - Rappel (recall)\n",
    "  - F1-score\n",
    "  - Support (nombre d’exemples par classe)\n",
    "\n",
    "Cette comparaison permet d’évaluer si notre réseau de neurones apporte un gain significatif.\n"
   ]
  },
  {
   "cell_type": "code",
   "execution_count": 22,
   "id": "cafc4651",
   "metadata": {},
   "outputs": [
    {
     "name": "stdout",
     "output_type": "stream",
     "text": [
      "              precision    recall  f1-score   support\n",
      "\n",
      "           0       0.74      0.74      0.74        97\n",
      "           1       0.67      0.67      0.67        76\n",
      "\n",
      "    accuracy                           0.71       173\n",
      "   macro avg       0.71      0.71      0.71       173\n",
      "weighted avg       0.71      0.71      0.71       173\n",
      "\n"
     ]
    }
   ],
   "source": [
    "lr = LogisticRegression(max_iter=1000)\n",
    "lr.fit(X_train, y_train)\n",
    "y_pred_lr = lr.predict(X_test)\n",
    "print(classification_report(y_test, y_pred_lr))\n"
   ]
  },
  {
   "cell_type": "markdown",
   "id": "e718a569",
   "metadata": {},
   "source": [
    "## 📊 Interprétation du Rapport de Classification (Régression Logistique)\n",
    "\n",
    "| Classe | Précision | Rappel | F1-score | Support |\n",
    "|--------|-----------|--------|----------|---------|\n",
    "| 0 (Faible crédit) | 0.74      | 0.74   | 0.74     | 97      |\n",
    "| 1 (Crédit élevé)  | 0.67      | 0.67   | 0.67     | 76      |\n",
    "\n",
    "### 🔑 Résumé\n",
    "\n",
    "- **Précision** :  \n",
    "  - Classe 0 : 74% des prédictions faibles crédits sont correctes.  \n",
    "  - Classe 1 : 67% des prédictions crédits élevés sont correctes.\n",
    "\n",
    "- **Rappel** :  \n",
    "  - Classe 0 : 74% des vrais faibles crédits sont bien détectés.  \n",
    "  - Classe 1 : 67% des vrais crédits élevés sont bien détectés.\n",
    "\n",
    "- **F1-score** (moyenne harmonique précision/rappel) est équilibré pour les deux classes.\n",
    "\n",
    "- **Accuracy globale** : 71% des prédictions totales sont correctes.\n",
    "\n",
    "### 🤔 Conclusion\n",
    "\n",
    "Le modèle de régression logistique obtient une bonne performance, légèrement meilleure pour détecter les faibles crédits.  \n",
    "Le déséquilibre des scores suggère que le modèle a plus de mal à identifier parfaitement les crédits élevés, ce qui peut être crucial en gestion du risque.  \n",
    "Cela justifie d'explorer des modèles plus complexes ou des techniques d'équilibrage des classes pour améliorer la détection.\n"
   ]
  },
  {
   "cell_type": "markdown",
   "id": "c91119bc",
   "metadata": {},
   "source": [
    "## 🧠 Interprétabilité avec SHAP (SHapley Additive exPlanations)\n",
    "\n",
    "- SHAP permet d'expliquer l'impact de chaque **feature** sur la prédiction d’un modèle.\n",
    "- Ici, on utilise `shap.Explainer` pour interpréter notre modèle de deep learning.\n",
    "- On applique SHAP à un échantillon des 100 premiers exemples du jeu de test.\n",
    "\n",
    "### 📊 Visualisation : `summary_plot`\n",
    "\n",
    "- Le **summary plot** affiche :\n",
    "  - L’importance moyenne de chaque variable sur les prédictions.\n",
    "  - La direction de l’effet (valeurs SHAP positives : vers classe 1 / négatives : vers classe 0).\n",
    "  - Les points rouges = valeurs élevées, les bleus = valeurs faibles.\n",
    "- Ce graphique aide à comprendre **quelles variables influencent le plus le modèle** (par exemple : Durée, Crédit amount, etc.)."
   ]
  },
  {
   "cell_type": "code",
   "execution_count": 28,
   "id": "5570301e",
   "metadata": {},
   "outputs": [
    {
     "name": "stdout",
     "output_type": "stream",
     "text": [
      "\u001b[1m590/590\u001b[0m \u001b[32m━━━━━━━━━━━━━━━━━━━━\u001b[0m\u001b[37m\u001b[0m \u001b[1m0s\u001b[0m 650us/step\n",
      "\u001b[1m621/621\u001b[0m \u001b[32m━━━━━━━━━━━━━━━━━━━━\u001b[0m\u001b[37m\u001b[0m \u001b[1m1s\u001b[0m 868us/step\n",
      "\u001b[1m27/27\u001b[0m \u001b[32m━━━━━━━━━━━━━━━━━━━━\u001b[0m\u001b[37m\u001b[0m \u001b[1m0s\u001b[0m 1ms/step \n",
      "\u001b[1m599/599\u001b[0m \u001b[32m━━━━━━━━━━━━━━━━━━━━\u001b[0m\u001b[37m\u001b[0m \u001b[1m0s\u001b[0m 596us/step\n",
      "\u001b[1m24/24\u001b[0m \u001b[32m━━━━━━━━━━━━━━━━━━━━\u001b[0m\u001b[37m\u001b[0m \u001b[1m0s\u001b[0m 1ms/step \n",
      "\u001b[1m624/624\u001b[0m \u001b[32m━━━━━━━━━━━━━━━━━━━━\u001b[0m\u001b[37m\u001b[0m \u001b[1m0s\u001b[0m 709us/step\n",
      "\u001b[1m24/24\u001b[0m \u001b[32m━━━━━━━━━━━━━━━━━━━━\u001b[0m\u001b[37m\u001b[0m \u001b[1m0s\u001b[0m 3ms/step \n",
      "\u001b[1m700/700\u001b[0m \u001b[32m━━━━━━━━━━━━━━━━━━━━\u001b[0m\u001b[37m\u001b[0m \u001b[1m1s\u001b[0m 1ms/step\n",
      "\u001b[1m27/27\u001b[0m \u001b[32m━━━━━━━━━━━━━━━━━━━━\u001b[0m\u001b[37m\u001b[0m \u001b[1m0s\u001b[0m 2ms/step \n",
      "\u001b[1m584/584\u001b[0m \u001b[32m━━━━━━━━━━━━━━━━━━━━\u001b[0m\u001b[37m\u001b[0m \u001b[1m1s\u001b[0m 1ms/step  \n",
      "\u001b[1m26/26\u001b[0m \u001b[32m━━━━━━━━━━━━━━━━━━━━\u001b[0m\u001b[37m\u001b[0m \u001b[1m0s\u001b[0m 2ms/step \n",
      "\u001b[1m670/670\u001b[0m \u001b[32m━━━━━━━━━━━━━━━━━━━━\u001b[0m\u001b[37m\u001b[0m \u001b[1m0s\u001b[0m 652us/step\n",
      "\u001b[1m26/26\u001b[0m \u001b[32m━━━━━━━━━━━━━━━━━━━━\u001b[0m\u001b[37m\u001b[0m \u001b[1m0s\u001b[0m 2ms/step \n",
      "\u001b[1m587/587\u001b[0m \u001b[32m━━━━━━━━━━━━━━━━━━━━\u001b[0m\u001b[37m\u001b[0m \u001b[1m1s\u001b[0m 1ms/step\n",
      "\u001b[1m25/25\u001b[0m \u001b[32m━━━━━━━━━━━━━━━━━━━━\u001b[0m\u001b[37m\u001b[0m \u001b[1m0s\u001b[0m 2ms/step \n",
      "\u001b[1m564/564\u001b[0m \u001b[32m━━━━━━━━━━━━━━━━━━━━\u001b[0m\u001b[37m\u001b[0m \u001b[1m1s\u001b[0m 2ms/step\n",
      "\u001b[1m24/24\u001b[0m \u001b[32m━━━━━━━━━━━━━━━━━━━━\u001b[0m\u001b[37m\u001b[0m \u001b[1m0s\u001b[0m 3ms/step \n",
      "\u001b[1m583/583\u001b[0m \u001b[32m━━━━━━━━━━━━━━━━━━━━\u001b[0m\u001b[37m\u001b[0m \u001b[1m1s\u001b[0m 2ms/step\n",
      "\u001b[1m25/25\u001b[0m \u001b[32m━━━━━━━━━━━━━━━━━━━━\u001b[0m\u001b[37m\u001b[0m \u001b[1m0s\u001b[0m 4ms/step \n"
     ]
    },
    {
     "name": "stderr",
     "output_type": "stream",
     "text": [
      "ExactExplainer explainer:  10%|█         | 10/100 [00:00<?, ?it/s]"
     ]
    },
    {
     "name": "stdout",
     "output_type": "stream",
     "text": [
      "\u001b[1m674/674\u001b[0m \u001b[32m━━━━━━━━━━━━━━━━━━━━\u001b[0m\u001b[37m\u001b[0m \u001b[1m1s\u001b[0m 1ms/step\n",
      "\u001b[1m25/25\u001b[0m \u001b[32m━━━━━━━━━━━━━━━━━━━━\u001b[0m\u001b[37m\u001b[0m \u001b[1m0s\u001b[0m 3ms/step \n"
     ]
    },
    {
     "name": "stderr",
     "output_type": "stream",
     "text": [
      "ExactExplainer explainer:  12%|█▏        | 12/100 [00:12<01:07,  1.31it/s]"
     ]
    },
    {
     "name": "stdout",
     "output_type": "stream",
     "text": [
      "\u001b[1m582/582\u001b[0m \u001b[32m━━━━━━━━━━━━━━━━━━━━\u001b[0m\u001b[37m\u001b[0m \u001b[1m1s\u001b[0m 3ms/step\n",
      "\u001b[1m24/24\u001b[0m \u001b[32m━━━━━━━━━━━━━━━━━━━━\u001b[0m\u001b[37m\u001b[0m \u001b[1m0s\u001b[0m 3ms/step \n"
     ]
    },
    {
     "name": "stderr",
     "output_type": "stream",
     "text": [
      "ExactExplainer explainer:  13%|█▎        | 13/100 [00:14<01:58,  1.36s/it]"
     ]
    },
    {
     "name": "stdout",
     "output_type": "stream",
     "text": [
      "\u001b[1m716/716\u001b[0m \u001b[32m━━━━━━━━━━━━━━━━━━━━\u001b[0m\u001b[37m\u001b[0m \u001b[1m2s\u001b[0m 3ms/step\n",
      "\u001b[1m27/27\u001b[0m \u001b[32m━━━━━━━━━━━━━━━━━━━━\u001b[0m\u001b[37m\u001b[0m \u001b[1m0s\u001b[0m 3ms/step\n"
     ]
    },
    {
     "name": "stderr",
     "output_type": "stream",
     "text": [
      "ExactExplainer explainer:  14%|█▍        | 14/100 [00:18<03:13,  2.25s/it]"
     ]
    },
    {
     "name": "stdout",
     "output_type": "stream",
     "text": [
      "\u001b[1m606/606\u001b[0m \u001b[32m━━━━━━━━━━━━━━━━━━━━\u001b[0m\u001b[37m\u001b[0m \u001b[1m1s\u001b[0m 1ms/step\n",
      "\u001b[1m24/24\u001b[0m \u001b[32m━━━━━━━━━━━━━━━━━━━━\u001b[0m\u001b[37m\u001b[0m \u001b[1m0s\u001b[0m 2ms/step \n"
     ]
    },
    {
     "name": "stderr",
     "output_type": "stream",
     "text": [
      "ExactExplainer explainer:  15%|█▌        | 15/100 [00:19<02:47,  1.97s/it]"
     ]
    },
    {
     "name": "stdout",
     "output_type": "stream",
     "text": [
      "\u001b[1m611/611\u001b[0m \u001b[32m━━━━━━━━━━━━━━━━━━━━\u001b[0m\u001b[37m\u001b[0m \u001b[1m1s\u001b[0m 1ms/step\n",
      "\u001b[1m26/26\u001b[0m \u001b[32m━━━━━━━━━━━━━━━━━━━━\u001b[0m\u001b[37m\u001b[0m \u001b[1m0s\u001b[0m 3ms/step \n"
     ]
    },
    {
     "name": "stderr",
     "output_type": "stream",
     "text": [
      "ExactExplainer explainer:  16%|█▌        | 16/100 [00:20<02:27,  1.76s/it]"
     ]
    },
    {
     "name": "stdout",
     "output_type": "stream",
     "text": [
      "\u001b[1m590/590\u001b[0m \u001b[32m━━━━━━━━━━━━━━━━━━━━\u001b[0m\u001b[37m\u001b[0m \u001b[1m1s\u001b[0m 2ms/step\n",
      "\u001b[1m25/25\u001b[0m \u001b[32m━━━━━━━━━━━━━━━━━━━━\u001b[0m\u001b[37m\u001b[0m \u001b[1m0s\u001b[0m 3ms/step \n"
     ]
    },
    {
     "name": "stderr",
     "output_type": "stream",
     "text": [
      "ExactExplainer explainer:  17%|█▋        | 17/100 [00:23<02:56,  2.13s/it]"
     ]
    },
    {
     "name": "stdout",
     "output_type": "stream",
     "text": [
      "\u001b[1m606/606\u001b[0m \u001b[32m━━━━━━━━━━━━━━━━━━━━\u001b[0m\u001b[37m\u001b[0m \u001b[1m1s\u001b[0m 1ms/step\n",
      "\u001b[1m25/25\u001b[0m \u001b[32m━━━━━━━━━━━━━━━━━━━━\u001b[0m\u001b[37m\u001b[0m \u001b[1m0s\u001b[0m 2ms/step \n"
     ]
    },
    {
     "name": "stderr",
     "output_type": "stream",
     "text": [
      "ExactExplainer explainer:  18%|█▊        | 18/100 [00:24<02:26,  1.78s/it]"
     ]
    },
    {
     "name": "stdout",
     "output_type": "stream",
     "text": [
      "\u001b[1m615/615\u001b[0m \u001b[32m━━━━━━━━━━━━━━━━━━━━\u001b[0m\u001b[37m\u001b[0m \u001b[1m1s\u001b[0m 968us/step\n",
      "\u001b[1m26/26\u001b[0m \u001b[32m━━━━━━━━━━━━━━━━━━━━\u001b[0m\u001b[37m\u001b[0m \u001b[1m0s\u001b[0m 2ms/step \n"
     ]
    },
    {
     "name": "stderr",
     "output_type": "stream",
     "text": [
      "ExactExplainer explainer:  19%|█▉        | 19/100 [00:25<02:05,  1.55s/it]"
     ]
    },
    {
     "name": "stdout",
     "output_type": "stream",
     "text": [
      "\u001b[1m592/592\u001b[0m \u001b[32m━━━━━━━━━━━━━━━━━━━━\u001b[0m\u001b[37m\u001b[0m \u001b[1m1s\u001b[0m 1ms/step\n",
      "\u001b[1m26/26\u001b[0m \u001b[32m━━━━━━━━━━━━━━━━━━━━\u001b[0m\u001b[37m\u001b[0m \u001b[1m0s\u001b[0m 2ms/step \n"
     ]
    },
    {
     "name": "stderr",
     "output_type": "stream",
     "text": [
      "ExactExplainer explainer:  20%|██        | 20/100 [00:26<01:51,  1.39s/it]"
     ]
    },
    {
     "name": "stdout",
     "output_type": "stream",
     "text": [
      "\u001b[1m654/654\u001b[0m \u001b[32m━━━━━━━━━━━━━━━━━━━━\u001b[0m\u001b[37m\u001b[0m \u001b[1m1s\u001b[0m 889us/step\n",
      "\u001b[1m25/25\u001b[0m \u001b[32m━━━━━━━━━━━━━━━━━━━━\u001b[0m\u001b[37m\u001b[0m \u001b[1m0s\u001b[0m 2ms/step \n"
     ]
    },
    {
     "name": "stderr",
     "output_type": "stream",
     "text": [
      "ExactExplainer explainer:  21%|██        | 21/100 [00:27<01:40,  1.28s/it]"
     ]
    },
    {
     "name": "stdout",
     "output_type": "stream",
     "text": [
      "\u001b[1m580/580\u001b[0m \u001b[32m━━━━━━━━━━━━━━━━━━━━\u001b[0m\u001b[37m\u001b[0m \u001b[1m1s\u001b[0m 976us/step\n",
      "\u001b[1m24/24\u001b[0m \u001b[32m━━━━━━━━━━━━━━━━━━━━\u001b[0m\u001b[37m\u001b[0m \u001b[1m0s\u001b[0m 2ms/step \n"
     ]
    },
    {
     "name": "stderr",
     "output_type": "stream",
     "text": [
      "ExactExplainer explainer:  22%|██▏       | 22/100 [00:28<01:32,  1.18s/it]"
     ]
    },
    {
     "name": "stdout",
     "output_type": "stream",
     "text": [
      "\u001b[1m578/578\u001b[0m \u001b[32m━━━━━━━━━━━━━━━━━━━━\u001b[0m\u001b[37m\u001b[0m \u001b[1m1s\u001b[0m 1ms/step\n",
      "\u001b[1m25/25\u001b[0m \u001b[32m━━━━━━━━━━━━━━━━━━━━\u001b[0m\u001b[37m\u001b[0m \u001b[1m0s\u001b[0m 2ms/step \n"
     ]
    },
    {
     "name": "stderr",
     "output_type": "stream",
     "text": [
      "ExactExplainer explainer:  23%|██▎       | 23/100 [00:30<01:30,  1.17s/it]"
     ]
    },
    {
     "name": "stdout",
     "output_type": "stream",
     "text": [
      "\u001b[1m640/640\u001b[0m \u001b[32m━━━━━━━━━━━━━━━━━━━━\u001b[0m\u001b[37m\u001b[0m \u001b[1m1s\u001b[0m 1ms/step\n",
      "\u001b[1m25/25\u001b[0m \u001b[32m━━━━━━━━━━━━━━━━━━━━\u001b[0m\u001b[37m\u001b[0m \u001b[1m0s\u001b[0m 3ms/step \n"
     ]
    },
    {
     "name": "stderr",
     "output_type": "stream",
     "text": [
      "ExactExplainer explainer:  24%|██▍       | 24/100 [00:31<01:33,  1.23s/it]"
     ]
    },
    {
     "name": "stdout",
     "output_type": "stream",
     "text": [
      "\u001b[1m618/618\u001b[0m \u001b[32m━━━━━━━━━━━━━━━━━━━━\u001b[0m\u001b[37m\u001b[0m \u001b[1m2s\u001b[0m 3ms/step\n",
      "\u001b[1m27/27\u001b[0m \u001b[32m━━━━━━━━━━━━━━━━━━━━\u001b[0m\u001b[37m\u001b[0m \u001b[1m0s\u001b[0m 3ms/step \n"
     ]
    },
    {
     "name": "stderr",
     "output_type": "stream",
     "text": [
      "ExactExplainer explainer:  25%|██▌       | 25/100 [00:33<01:58,  1.58s/it]"
     ]
    },
    {
     "name": "stdout",
     "output_type": "stream",
     "text": [
      "\u001b[1m559/559\u001b[0m \u001b[32m━━━━━━━━━━━━━━━━━━━━\u001b[0m\u001b[37m\u001b[0m \u001b[1m2s\u001b[0m 3ms/step\n",
      "\u001b[1m26/26\u001b[0m \u001b[32m━━━━━━━━━━━━━━━━━━━━\u001b[0m\u001b[37m\u001b[0m \u001b[1m0s\u001b[0m 5ms/step\n"
     ]
    },
    {
     "name": "stderr",
     "output_type": "stream",
     "text": [
      "ExactExplainer explainer:  26%|██▌       | 26/100 [00:36<02:14,  1.82s/it]"
     ]
    },
    {
     "name": "stdout",
     "output_type": "stream",
     "text": [
      "\u001b[1m721/721\u001b[0m \u001b[32m━━━━━━━━━━━━━━━━━━━━\u001b[0m\u001b[37m\u001b[0m \u001b[1m1s\u001b[0m 2ms/step\n",
      "\u001b[1m26/26\u001b[0m \u001b[32m━━━━━━━━━━━━━━━━━━━━\u001b[0m\u001b[37m\u001b[0m \u001b[1m0s\u001b[0m 2ms/step \n"
     ]
    },
    {
     "name": "stderr",
     "output_type": "stream",
     "text": [
      "ExactExplainer explainer:  27%|██▋       | 27/100 [00:37<02:08,  1.77s/it]"
     ]
    },
    {
     "name": "stdout",
     "output_type": "stream",
     "text": [
      "\u001b[1m570/570\u001b[0m \u001b[32m━━━━━━━━━━━━━━━━━━━━\u001b[0m\u001b[37m\u001b[0m \u001b[1m1s\u001b[0m 1ms/step\n",
      "\u001b[1m27/27\u001b[0m \u001b[32m━━━━━━━━━━━━━━━━━━━━\u001b[0m\u001b[37m\u001b[0m \u001b[1m0s\u001b[0m 7ms/step\n"
     ]
    },
    {
     "name": "stderr",
     "output_type": "stream",
     "text": [
      "ExactExplainer explainer:  28%|██▊       | 28/100 [00:39<02:01,  1.68s/it]"
     ]
    },
    {
     "name": "stdout",
     "output_type": "stream",
     "text": [
      "\u001b[1m551/551\u001b[0m \u001b[32m━━━━━━━━━━━━━━━━━━━━\u001b[0m\u001b[37m\u001b[0m \u001b[1m1s\u001b[0m 1ms/step\n",
      "\u001b[1m23/23\u001b[0m \u001b[32m━━━━━━━━━━━━━━━━━━━━\u001b[0m\u001b[37m\u001b[0m \u001b[1m0s\u001b[0m 2ms/step \n"
     ]
    },
    {
     "name": "stderr",
     "output_type": "stream",
     "text": [
      "ExactExplainer explainer:  29%|██▉       | 29/100 [00:40<01:47,  1.51s/it]"
     ]
    },
    {
     "name": "stdout",
     "output_type": "stream",
     "text": [
      "\u001b[1m573/573\u001b[0m \u001b[32m━━━━━━━━━━━━━━━━━━━━\u001b[0m\u001b[37m\u001b[0m \u001b[1m1s\u001b[0m 2ms/step\n",
      "\u001b[1m26/26\u001b[0m \u001b[32m━━━━━━━━━━━━━━━━━━━━\u001b[0m\u001b[37m\u001b[0m \u001b[1m0s\u001b[0m 3ms/step \n"
     ]
    },
    {
     "name": "stderr",
     "output_type": "stream",
     "text": [
      "ExactExplainer explainer:  30%|███       | 30/100 [00:41<01:44,  1.49s/it]"
     ]
    },
    {
     "name": "stdout",
     "output_type": "stream",
     "text": [
      "\u001b[1m579/579\u001b[0m \u001b[32m━━━━━━━━━━━━━━━━━━━━\u001b[0m\u001b[37m\u001b[0m \u001b[1m1s\u001b[0m 2ms/step\n",
      "\u001b[1m26/26\u001b[0m \u001b[32m━━━━━━━━━━━━━━━━━━━━\u001b[0m\u001b[37m\u001b[0m \u001b[1m0s\u001b[0m 2ms/step \n"
     ]
    },
    {
     "name": "stderr",
     "output_type": "stream",
     "text": [
      "ExactExplainer explainer:  31%|███       | 31/100 [00:43<01:43,  1.50s/it]"
     ]
    },
    {
     "name": "stdout",
     "output_type": "stream",
     "text": [
      "\u001b[1m711/711\u001b[0m \u001b[32m━━━━━━━━━━━━━━━━━━━━\u001b[0m\u001b[37m\u001b[0m \u001b[1m1s\u001b[0m 1ms/step\n",
      "\u001b[1m27/27\u001b[0m \u001b[32m━━━━━━━━━━━━━━━━━━━━\u001b[0m\u001b[37m\u001b[0m \u001b[1m0s\u001b[0m 2ms/step \n"
     ]
    },
    {
     "name": "stderr",
     "output_type": "stream",
     "text": [
      "ExactExplainer explainer:  32%|███▏      | 32/100 [00:44<01:39,  1.46s/it]"
     ]
    },
    {
     "name": "stdout",
     "output_type": "stream",
     "text": [
      "\u001b[1m600/600\u001b[0m \u001b[32m━━━━━━━━━━━━━━━━━━━━\u001b[0m\u001b[37m\u001b[0m \u001b[1m1s\u001b[0m 1ms/step\n",
      "\u001b[1m24/24\u001b[0m \u001b[32m━━━━━━━━━━━━━━━━━━━━\u001b[0m\u001b[37m\u001b[0m \u001b[1m0s\u001b[0m 3ms/step \n"
     ]
    },
    {
     "name": "stderr",
     "output_type": "stream",
     "text": [
      "ExactExplainer explainer:  33%|███▎      | 33/100 [00:45<01:31,  1.37s/it]"
     ]
    },
    {
     "name": "stdout",
     "output_type": "stream",
     "text": [
      "\u001b[1m660/660\u001b[0m \u001b[32m━━━━━━━━━━━━━━━━━━━━\u001b[0m\u001b[37m\u001b[0m \u001b[1m1s\u001b[0m 1ms/step\n",
      "\u001b[1m25/25\u001b[0m \u001b[32m━━━━━━━━━━━━━━━━━━━━\u001b[0m\u001b[37m\u001b[0m \u001b[1m0s\u001b[0m 2ms/step \n"
     ]
    },
    {
     "name": "stderr",
     "output_type": "stream",
     "text": [
      "ExactExplainer explainer:  34%|███▍      | 34/100 [00:47<01:31,  1.38s/it]"
     ]
    },
    {
     "name": "stdout",
     "output_type": "stream",
     "text": [
      "\u001b[1m602/602\u001b[0m \u001b[32m━━━━━━━━━━━━━━━━━━━━\u001b[0m\u001b[37m\u001b[0m \u001b[1m0s\u001b[0m 773us/step\n",
      "\u001b[1m26/26\u001b[0m \u001b[32m━━━━━━━━━━━━━━━━━━━━\u001b[0m\u001b[37m\u001b[0m \u001b[1m0s\u001b[0m 2ms/step \n"
     ]
    },
    {
     "name": "stderr",
     "output_type": "stream",
     "text": [
      "ExactExplainer explainer:  35%|███▌      | 35/100 [00:48<01:20,  1.24s/it]"
     ]
    },
    {
     "name": "stdout",
     "output_type": "stream",
     "text": [
      "\u001b[1m550/550\u001b[0m \u001b[32m━━━━━━━━━━━━━━━━━━━━\u001b[0m\u001b[37m\u001b[0m \u001b[1m1s\u001b[0m 978us/step\n",
      "\u001b[1m24/24\u001b[0m \u001b[32m━━━━━━━━━━━━━━━━━━━━\u001b[0m\u001b[37m\u001b[0m \u001b[1m0s\u001b[0m 2ms/step \n"
     ]
    },
    {
     "name": "stderr",
     "output_type": "stream",
     "text": [
      "ExactExplainer explainer:  36%|███▌      | 36/100 [00:49<01:12,  1.14s/it]"
     ]
    },
    {
     "name": "stdout",
     "output_type": "stream",
     "text": [
      "\u001b[1m598/598\u001b[0m \u001b[32m━━━━━━━━━━━━━━━━━━━━\u001b[0m\u001b[37m\u001b[0m \u001b[1m1s\u001b[0m 1ms/step\n",
      "\u001b[1m27/27\u001b[0m \u001b[32m━━━━━━━━━━━━━━━━━━━━\u001b[0m\u001b[37m\u001b[0m \u001b[1m0s\u001b[0m 3ms/step \n"
     ]
    },
    {
     "name": "stderr",
     "output_type": "stream",
     "text": [
      "ExactExplainer explainer:  37%|███▋      | 37/100 [00:50<01:13,  1.16s/it]"
     ]
    },
    {
     "name": "stdout",
     "output_type": "stream",
     "text": [
      "\u001b[1m598/598\u001b[0m \u001b[32m━━━━━━━━━━━━━━━━━━━━\u001b[0m\u001b[37m\u001b[0m \u001b[1m1s\u001b[0m 1ms/step\n",
      "\u001b[1m26/26\u001b[0m \u001b[32m━━━━━━━━━━━━━━━━━━━━\u001b[0m\u001b[37m\u001b[0m \u001b[1m0s\u001b[0m 2ms/step \n"
     ]
    },
    {
     "name": "stderr",
     "output_type": "stream",
     "text": [
      "ExactExplainer explainer:  38%|███▊      | 38/100 [00:51<01:12,  1.17s/it]"
     ]
    },
    {
     "name": "stdout",
     "output_type": "stream",
     "text": [
      "\u001b[1m634/634\u001b[0m \u001b[32m━━━━━━━━━━━━━━━━━━━━\u001b[0m\u001b[37m\u001b[0m \u001b[1m1s\u001b[0m 1ms/step\n",
      "\u001b[1m27/27\u001b[0m \u001b[32m━━━━━━━━━━━━━━━━━━━━\u001b[0m\u001b[37m\u001b[0m \u001b[1m0s\u001b[0m 2ms/step \n"
     ]
    },
    {
     "name": "stderr",
     "output_type": "stream",
     "text": [
      "ExactExplainer explainer:  39%|███▉      | 39/100 [00:52<01:10,  1.15s/it]"
     ]
    },
    {
     "name": "stdout",
     "output_type": "stream",
     "text": [
      "\u001b[1m652/652\u001b[0m \u001b[32m━━━━━━━━━━━━━━━━━━━━\u001b[0m\u001b[37m\u001b[0m \u001b[1m1s\u001b[0m 1ms/step\n",
      "\u001b[1m26/26\u001b[0m \u001b[32m━━━━━━━━━━━━━━━━━━━━\u001b[0m\u001b[37m\u001b[0m \u001b[1m0s\u001b[0m 2ms/step \n"
     ]
    },
    {
     "name": "stderr",
     "output_type": "stream",
     "text": [
      "ExactExplainer explainer:  40%|████      | 40/100 [00:53<01:10,  1.18s/it]"
     ]
    },
    {
     "name": "stdout",
     "output_type": "stream",
     "text": [
      "\u001b[1m611/611\u001b[0m \u001b[32m━━━━━━━━━━━━━━━━━━━━\u001b[0m\u001b[37m\u001b[0m \u001b[1m1s\u001b[0m 858us/step\n",
      "\u001b[1m24/24\u001b[0m \u001b[32m━━━━━━━━━━━━━━━━━━━━\u001b[0m\u001b[37m\u001b[0m \u001b[1m0s\u001b[0m 2ms/step \n"
     ]
    },
    {
     "name": "stderr",
     "output_type": "stream",
     "text": [
      "ExactExplainer explainer:  41%|████      | 41/100 [00:54<01:04,  1.10s/it]"
     ]
    },
    {
     "name": "stdout",
     "output_type": "stream",
     "text": [
      "\u001b[1m592/592\u001b[0m \u001b[32m━━━━━━━━━━━━━━━━━━━━\u001b[0m\u001b[37m\u001b[0m \u001b[1m1s\u001b[0m 864us/step\n",
      "\u001b[1m26/26\u001b[0m \u001b[32m━━━━━━━━━━━━━━━━━━━━\u001b[0m\u001b[37m\u001b[0m \u001b[1m0s\u001b[0m 2ms/step \n"
     ]
    },
    {
     "name": "stderr",
     "output_type": "stream",
     "text": [
      "ExactExplainer explainer:  42%|████▏     | 42/100 [00:55<00:59,  1.03s/it]"
     ]
    },
    {
     "name": "stdout",
     "output_type": "stream",
     "text": [
      "\u001b[1m675/675\u001b[0m \u001b[32m━━━━━━━━━━━━━━━━━━━━\u001b[0m\u001b[37m\u001b[0m \u001b[1m0s\u001b[0m 689us/step\n",
      "\u001b[1m25/25\u001b[0m \u001b[32m━━━━━━━━━━━━━━━━━━━━\u001b[0m\u001b[37m\u001b[0m \u001b[1m0s\u001b[0m 2ms/step \n"
     ]
    },
    {
     "name": "stderr",
     "output_type": "stream",
     "text": [
      "ExactExplainer explainer:  43%|████▎     | 43/100 [00:56<00:55,  1.03it/s]"
     ]
    },
    {
     "name": "stdout",
     "output_type": "stream",
     "text": [
      "\u001b[1m726/726\u001b[0m \u001b[32m━━━━━━━━━━━━━━━━━━━━\u001b[0m\u001b[37m\u001b[0m \u001b[1m1s\u001b[0m 840us/step\n",
      "\u001b[1m26/26\u001b[0m \u001b[32m━━━━━━━━━━━━━━━━━━━━\u001b[0m\u001b[37m\u001b[0m \u001b[1m0s\u001b[0m 2ms/step \n"
     ]
    },
    {
     "name": "stderr",
     "output_type": "stream",
     "text": [
      "ExactExplainer explainer:  44%|████▍     | 44/100 [00:57<00:57,  1.03s/it]"
     ]
    },
    {
     "name": "stdout",
     "output_type": "stream",
     "text": [
      "\u001b[1m611/611\u001b[0m \u001b[32m━━━━━━━━━━━━━━━━━━━━\u001b[0m\u001b[37m\u001b[0m \u001b[1m1s\u001b[0m 827us/step\n",
      "\u001b[1m27/27\u001b[0m \u001b[32m━━━━━━━━━━━━━━━━━━━━\u001b[0m\u001b[37m\u001b[0m \u001b[1m0s\u001b[0m 1ms/step \n"
     ]
    },
    {
     "name": "stderr",
     "output_type": "stream",
     "text": [
      "ExactExplainer explainer:  45%|████▌     | 45/100 [00:58<00:55,  1.00s/it]"
     ]
    },
    {
     "name": "stdout",
     "output_type": "stream",
     "text": [
      "\u001b[1m595/595\u001b[0m \u001b[32m━━━━━━━━━━━━━━━━━━━━\u001b[0m\u001b[37m\u001b[0m \u001b[1m1s\u001b[0m 926us/step\n",
      "\u001b[1m23/23\u001b[0m \u001b[32m━━━━━━━━━━━━━━━━━━━━\u001b[0m\u001b[37m\u001b[0m \u001b[1m0s\u001b[0m 2ms/step \n"
     ]
    },
    {
     "name": "stderr",
     "output_type": "stream",
     "text": [
      "ExactExplainer explainer:  46%|████▌     | 46/100 [00:59<00:55,  1.03s/it]"
     ]
    },
    {
     "name": "stdout",
     "output_type": "stream",
     "text": [
      "\u001b[1m625/625\u001b[0m \u001b[32m━━━━━━━━━━━━━━━━━━━━\u001b[0m\u001b[37m\u001b[0m \u001b[1m1s\u001b[0m 1ms/step\n",
      "\u001b[1m27/27\u001b[0m \u001b[32m━━━━━━━━━━━━━━━━━━━━\u001b[0m\u001b[37m\u001b[0m \u001b[1m0s\u001b[0m 2ms/step \n"
     ]
    },
    {
     "name": "stderr",
     "output_type": "stream",
     "text": [
      "ExactExplainer explainer:  47%|████▋     | 47/100 [01:01<01:00,  1.14s/it]"
     ]
    },
    {
     "name": "stdout",
     "output_type": "stream",
     "text": [
      "\u001b[1m570/570\u001b[0m \u001b[32m━━━━━━━━━━━━━━━━━━━━\u001b[0m\u001b[37m\u001b[0m \u001b[1m1s\u001b[0m 859us/step\n",
      "\u001b[1m25/25\u001b[0m \u001b[32m━━━━━━━━━━━━━━━━━━━━\u001b[0m\u001b[37m\u001b[0m \u001b[1m0s\u001b[0m 5ms/step \n"
     ]
    },
    {
     "name": "stderr",
     "output_type": "stream",
     "text": [
      "ExactExplainer explainer:  48%|████▊     | 48/100 [01:02<00:56,  1.09s/it]"
     ]
    },
    {
     "name": "stdout",
     "output_type": "stream",
     "text": [
      "\u001b[1m568/568\u001b[0m \u001b[32m━━━━━━━━━━━━━━━━━━━━\u001b[0m\u001b[37m\u001b[0m \u001b[1m1s\u001b[0m 921us/step\n",
      "\u001b[1m25/25\u001b[0m \u001b[32m━━━━━━━━━━━━━━━━━━━━\u001b[0m\u001b[37m\u001b[0m \u001b[1m0s\u001b[0m 3ms/step \n"
     ]
    },
    {
     "name": "stderr",
     "output_type": "stream",
     "text": [
      "ExactExplainer explainer:  49%|████▉     | 49/100 [01:02<00:53,  1.05s/it]"
     ]
    },
    {
     "name": "stdout",
     "output_type": "stream",
     "text": [
      "\u001b[1m582/582\u001b[0m \u001b[32m━━━━━━━━━━━━━━━━━━━━\u001b[0m\u001b[37m\u001b[0m \u001b[1m0s\u001b[0m 808us/step\n",
      "\u001b[1m26/26\u001b[0m \u001b[32m━━━━━━━━━━━━━━━━━━━━\u001b[0m\u001b[37m\u001b[0m \u001b[1m0s\u001b[0m 2ms/step \n"
     ]
    },
    {
     "name": "stderr",
     "output_type": "stream",
     "text": [
      "ExactExplainer explainer:  50%|█████     | 50/100 [01:03<00:49,  1.02it/s]"
     ]
    },
    {
     "name": "stdout",
     "output_type": "stream",
     "text": [
      "\u001b[1m586/586\u001b[0m \u001b[32m━━━━━━━━━━━━━━━━━━━━\u001b[0m\u001b[37m\u001b[0m \u001b[1m1s\u001b[0m 922us/step\n",
      "\u001b[1m25/25\u001b[0m \u001b[32m━━━━━━━━━━━━━━━━━━━━\u001b[0m\u001b[37m\u001b[0m \u001b[1m0s\u001b[0m 2ms/step \n"
     ]
    },
    {
     "name": "stderr",
     "output_type": "stream",
     "text": [
      "ExactExplainer explainer:  51%|█████     | 51/100 [01:04<00:47,  1.04it/s]"
     ]
    },
    {
     "name": "stdout",
     "output_type": "stream",
     "text": [
      "\u001b[1m612/612\u001b[0m \u001b[32m━━━━━━━━━━━━━━━━━━━━\u001b[0m\u001b[37m\u001b[0m \u001b[1m1s\u001b[0m 990us/step\n",
      "\u001b[1m25/25\u001b[0m \u001b[32m━━━━━━━━━━━━━━━━━━━━\u001b[0m\u001b[37m\u001b[0m \u001b[1m0s\u001b[0m 2ms/step \n"
     ]
    },
    {
     "name": "stderr",
     "output_type": "stream",
     "text": [
      "ExactExplainer explainer:  52%|█████▏    | 52/100 [01:05<00:46,  1.02it/s]"
     ]
    },
    {
     "name": "stdout",
     "output_type": "stream",
     "text": [
      "\u001b[1m612/612\u001b[0m \u001b[32m━━━━━━━━━━━━━━━━━━━━\u001b[0m\u001b[37m\u001b[0m \u001b[1m1s\u001b[0m 843us/step\n",
      "\u001b[1m26/26\u001b[0m \u001b[32m━━━━━━━━━━━━━━━━━━━━\u001b[0m\u001b[37m\u001b[0m \u001b[1m0s\u001b[0m 2ms/step \n"
     ]
    },
    {
     "name": "stderr",
     "output_type": "stream",
     "text": [
      "ExactExplainer explainer:  53%|█████▎    | 53/100 [01:06<00:44,  1.05it/s]"
     ]
    },
    {
     "name": "stdout",
     "output_type": "stream",
     "text": [
      "\u001b[1m572/572\u001b[0m \u001b[32m━━━━━━━━━━━━━━━━━━━━\u001b[0m\u001b[37m\u001b[0m \u001b[1m0s\u001b[0m 707us/step\n",
      "\u001b[1m24/24\u001b[0m \u001b[32m━━━━━━━━━━━━━━━━━━━━\u001b[0m\u001b[37m\u001b[0m \u001b[1m0s\u001b[0m 1ms/step \n"
     ]
    },
    {
     "name": "stderr",
     "output_type": "stream",
     "text": [
      "ExactExplainer explainer:  54%|█████▍    | 54/100 [01:07<00:40,  1.13it/s]"
     ]
    },
    {
     "name": "stdout",
     "output_type": "stream",
     "text": [
      "\u001b[1m640/640\u001b[0m \u001b[32m━━━━━━━━━━━━━━━━━━━━\u001b[0m\u001b[37m\u001b[0m \u001b[1m1s\u001b[0m 1ms/step  \n",
      "\u001b[1m25/25\u001b[0m \u001b[32m━━━━━━━━━━━━━━━━━━━━\u001b[0m\u001b[37m\u001b[0m \u001b[1m0s\u001b[0m 2ms/step \n"
     ]
    },
    {
     "name": "stderr",
     "output_type": "stream",
     "text": [
      "ExactExplainer explainer:  55%|█████▌    | 55/100 [01:08<00:41,  1.07it/s]"
     ]
    },
    {
     "name": "stdout",
     "output_type": "stream",
     "text": [
      "\u001b[1m584/584\u001b[0m \u001b[32m━━━━━━━━━━━━━━━━━━━━\u001b[0m\u001b[37m\u001b[0m \u001b[1m1s\u001b[0m 1ms/step\n",
      "\u001b[1m24/24\u001b[0m \u001b[32m━━━━━━━━━━━━━━━━━━━━\u001b[0m\u001b[37m\u001b[0m \u001b[1m0s\u001b[0m 2ms/step \n"
     ]
    },
    {
     "name": "stderr",
     "output_type": "stream",
     "text": [
      "ExactExplainer explainer:  56%|█████▌    | 56/100 [01:09<00:43,  1.01it/s]"
     ]
    },
    {
     "name": "stdout",
     "output_type": "stream",
     "text": [
      "\u001b[1m696/696\u001b[0m \u001b[32m━━━━━━━━━━━━━━━━━━━━\u001b[0m\u001b[37m\u001b[0m \u001b[1m1s\u001b[0m 906us/step\n",
      "\u001b[1m26/26\u001b[0m \u001b[32m━━━━━━━━━━━━━━━━━━━━\u001b[0m\u001b[37m\u001b[0m \u001b[1m0s\u001b[0m 1ms/step \n"
     ]
    },
    {
     "name": "stderr",
     "output_type": "stream",
     "text": [
      "ExactExplainer explainer:  57%|█████▋    | 57/100 [01:10<00:43,  1.00s/it]"
     ]
    },
    {
     "name": "stdout",
     "output_type": "stream",
     "text": [
      "\u001b[1m586/586\u001b[0m \u001b[32m━━━━━━━━━━━━━━━━━━━━\u001b[0m\u001b[37m\u001b[0m \u001b[1m1s\u001b[0m 865us/step\n",
      "\u001b[1m24/24\u001b[0m \u001b[32m━━━━━━━━━━━━━━━━━━━━\u001b[0m\u001b[37m\u001b[0m \u001b[1m0s\u001b[0m 2ms/step \n"
     ]
    },
    {
     "name": "stderr",
     "output_type": "stream",
     "text": [
      "ExactExplainer explainer:  58%|█████▊    | 58/100 [01:11<00:41,  1.02it/s]"
     ]
    },
    {
     "name": "stdout",
     "output_type": "stream",
     "text": [
      "\u001b[1m684/684\u001b[0m \u001b[32m━━━━━━━━━━━━━━━━━━━━\u001b[0m\u001b[37m\u001b[0m \u001b[1m1s\u001b[0m 2ms/step\n",
      "\u001b[1m24/24\u001b[0m \u001b[32m━━━━━━━━━━━━━━━━━━━━\u001b[0m\u001b[37m\u001b[0m \u001b[1m0s\u001b[0m 2ms/step \n"
     ]
    },
    {
     "name": "stderr",
     "output_type": "stream",
     "text": [
      "ExactExplainer explainer:  59%|█████▉    | 59/100 [01:13<00:51,  1.25s/it]"
     ]
    },
    {
     "name": "stdout",
     "output_type": "stream",
     "text": [
      "\u001b[1m569/569\u001b[0m \u001b[32m━━━━━━━━━━━━━━━━━━━━\u001b[0m\u001b[37m\u001b[0m \u001b[1m1s\u001b[0m 881us/step\n",
      "\u001b[1m24/24\u001b[0m \u001b[32m━━━━━━━━━━━━━━━━━━━━\u001b[0m\u001b[37m\u001b[0m \u001b[1m0s\u001b[0m 2ms/step \n"
     ]
    },
    {
     "name": "stderr",
     "output_type": "stream",
     "text": [
      "ExactExplainer explainer:  60%|██████    | 60/100 [01:14<00:45,  1.13s/it]"
     ]
    },
    {
     "name": "stdout",
     "output_type": "stream",
     "text": [
      "\u001b[1m569/569\u001b[0m \u001b[32m━━━━━━━━━━━━━━━━━━━━\u001b[0m\u001b[37m\u001b[0m \u001b[1m1s\u001b[0m 1ms/step  \n",
      "\u001b[1m23/23\u001b[0m \u001b[32m━━━━━━━━━━━━━━━━━━━━\u001b[0m\u001b[37m\u001b[0m \u001b[1m0s\u001b[0m 1ms/step \n"
     ]
    },
    {
     "name": "stderr",
     "output_type": "stream",
     "text": [
      "ExactExplainer explainer:  61%|██████    | 61/100 [01:15<00:41,  1.06s/it]"
     ]
    },
    {
     "name": "stdout",
     "output_type": "stream",
     "text": [
      "\u001b[1m582/582\u001b[0m \u001b[32m━━━━━━━━━━━━━━━━━━━━\u001b[0m\u001b[37m\u001b[0m \u001b[1m0s\u001b[0m 686us/step\n",
      "\u001b[1m27/27\u001b[0m \u001b[32m━━━━━━━━━━━━━━━━━━━━\u001b[0m\u001b[37m\u001b[0m \u001b[1m0s\u001b[0m 2ms/step \n"
     ]
    },
    {
     "name": "stderr",
     "output_type": "stream",
     "text": [
      "ExactExplainer explainer:  62%|██████▏   | 62/100 [01:15<00:36,  1.05it/s]"
     ]
    },
    {
     "name": "stdout",
     "output_type": "stream",
     "text": [
      "\u001b[1m675/675\u001b[0m \u001b[32m━━━━━━━━━━━━━━━━━━━━\u001b[0m\u001b[37m\u001b[0m \u001b[1m0s\u001b[0m 643us/step\n",
      "\u001b[1m25/25\u001b[0m \u001b[32m━━━━━━━━━━━━━━━━━━━━\u001b[0m\u001b[37m\u001b[0m \u001b[1m0s\u001b[0m 1ms/step \n"
     ]
    },
    {
     "name": "stderr",
     "output_type": "stream",
     "text": [
      "ExactExplainer explainer:  63%|██████▎   | 63/100 [01:16<00:33,  1.10it/s]"
     ]
    },
    {
     "name": "stdout",
     "output_type": "stream",
     "text": [
      "\u001b[1m595/595\u001b[0m \u001b[32m━━━━━━━━━━━━━━━━━━━━\u001b[0m\u001b[37m\u001b[0m \u001b[1m0s\u001b[0m 663us/step\n",
      "\u001b[1m24/24\u001b[0m \u001b[32m━━━━━━━━━━━━━━━━━━━━\u001b[0m\u001b[37m\u001b[0m \u001b[1m0s\u001b[0m 1ms/step \n"
     ]
    },
    {
     "name": "stderr",
     "output_type": "stream",
     "text": [
      "ExactExplainer explainer:  64%|██████▍   | 64/100 [01:17<00:30,  1.18it/s]"
     ]
    },
    {
     "name": "stdout",
     "output_type": "stream",
     "text": [
      "\u001b[1m681/681\u001b[0m \u001b[32m━━━━━━━━━━━━━━━━━━━━\u001b[0m\u001b[37m\u001b[0m \u001b[1m0s\u001b[0m 643us/step\n",
      "\u001b[1m27/27\u001b[0m \u001b[32m━━━━━━━━━━━━━━━━━━━━\u001b[0m\u001b[37m\u001b[0m \u001b[1m0s\u001b[0m 1ms/step \n"
     ]
    },
    {
     "name": "stderr",
     "output_type": "stream",
     "text": [
      "ExactExplainer explainer:  65%|██████▌   | 65/100 [01:18<00:29,  1.18it/s]"
     ]
    },
    {
     "name": "stdout",
     "output_type": "stream",
     "text": [
      "\u001b[1m689/689\u001b[0m \u001b[32m━━━━━━━━━━━━━━━━━━━━\u001b[0m\u001b[37m\u001b[0m \u001b[1m0s\u001b[0m 664us/step\n",
      "\u001b[1m25/25\u001b[0m \u001b[32m━━━━━━━━━━━━━━━━━━━━\u001b[0m\u001b[37m\u001b[0m \u001b[1m0s\u001b[0m 1ms/step \n"
     ]
    },
    {
     "name": "stderr",
     "output_type": "stream",
     "text": [
      "ExactExplainer explainer:  66%|██████▌   | 66/100 [01:18<00:28,  1.20it/s]"
     ]
    },
    {
     "name": "stdout",
     "output_type": "stream",
     "text": [
      "\u001b[1m693/693\u001b[0m \u001b[32m━━━━━━━━━━━━━━━━━━━━\u001b[0m\u001b[37m\u001b[0m \u001b[1m0s\u001b[0m 635us/step\n",
      "\u001b[1m26/26\u001b[0m \u001b[32m━━━━━━━━━━━━━━━━━━━━\u001b[0m\u001b[37m\u001b[0m \u001b[1m0s\u001b[0m 1ms/step \n"
     ]
    },
    {
     "name": "stderr",
     "output_type": "stream",
     "text": [
      "ExactExplainer explainer:  67%|██████▋   | 67/100 [01:19<00:26,  1.22it/s]"
     ]
    },
    {
     "name": "stdout",
     "output_type": "stream",
     "text": [
      "\u001b[1m689/689\u001b[0m \u001b[32m━━━━━━━━━━━━━━━━━━━━\u001b[0m\u001b[37m\u001b[0m \u001b[1m1s\u001b[0m 818us/step\n",
      "\u001b[1m27/27\u001b[0m \u001b[32m━━━━━━━━━━━━━━━━━━━━\u001b[0m\u001b[37m\u001b[0m \u001b[1m0s\u001b[0m 1ms/step \n"
     ]
    },
    {
     "name": "stderr",
     "output_type": "stream",
     "text": [
      "ExactExplainer explainer:  68%|██████▊   | 68/100 [01:20<00:26,  1.19it/s]"
     ]
    },
    {
     "name": "stdout",
     "output_type": "stream",
     "text": [
      "\u001b[1m580/580\u001b[0m \u001b[32m━━━━━━━━━━━━━━━━━━━━\u001b[0m\u001b[37m\u001b[0m \u001b[1m1s\u001b[0m 945us/step\n",
      "\u001b[1m25/25\u001b[0m \u001b[32m━━━━━━━━━━━━━━━━━━━━\u001b[0m\u001b[37m\u001b[0m \u001b[1m0s\u001b[0m 2ms/step \n"
     ]
    },
    {
     "name": "stderr",
     "output_type": "stream",
     "text": [
      "ExactExplainer explainer:  69%|██████▉   | 69/100 [01:21<00:26,  1.15it/s]"
     ]
    },
    {
     "name": "stdout",
     "output_type": "stream",
     "text": [
      "\u001b[1m614/614\u001b[0m \u001b[32m━━━━━━━━━━━━━━━━━━━━\u001b[0m\u001b[37m\u001b[0m \u001b[1m1s\u001b[0m 1ms/step\n",
      "\u001b[1m24/24\u001b[0m \u001b[32m━━━━━━━━━━━━━━━━━━━━\u001b[0m\u001b[37m\u001b[0m \u001b[1m0s\u001b[0m 2ms/step \n"
     ]
    },
    {
     "name": "stderr",
     "output_type": "stream",
     "text": [
      "ExactExplainer explainer:  70%|███████   | 70/100 [01:22<00:28,  1.07it/s]"
     ]
    },
    {
     "name": "stdout",
     "output_type": "stream",
     "text": [
      "\u001b[1m564/564\u001b[0m \u001b[32m━━━━━━━━━━━━━━━━━━━━\u001b[0m\u001b[37m\u001b[0m \u001b[1m1s\u001b[0m 1ms/step\n",
      "\u001b[1m25/25\u001b[0m \u001b[32m━━━━━━━━━━━━━━━━━━━━\u001b[0m\u001b[37m\u001b[0m \u001b[1m0s\u001b[0m 2ms/step \n"
     ]
    },
    {
     "name": "stderr",
     "output_type": "stream",
     "text": [
      "ExactExplainer explainer:  71%|███████   | 71/100 [01:23<00:27,  1.05it/s]"
     ]
    },
    {
     "name": "stdout",
     "output_type": "stream",
     "text": [
      "\u001b[1m558/558\u001b[0m \u001b[32m━━━━━━━━━━━━━━━━━━━━\u001b[0m\u001b[37m\u001b[0m \u001b[1m1s\u001b[0m 1ms/step  \n",
      "\u001b[1m24/24\u001b[0m \u001b[32m━━━━━━━━━━━━━━━━━━━━\u001b[0m\u001b[37m\u001b[0m \u001b[1m0s\u001b[0m 2ms/step \n"
     ]
    },
    {
     "name": "stderr",
     "output_type": "stream",
     "text": [
      "ExactExplainer explainer:  72%|███████▏  | 72/100 [01:24<00:26,  1.07it/s]"
     ]
    },
    {
     "name": "stdout",
     "output_type": "stream",
     "text": [
      "\u001b[1m667/667\u001b[0m \u001b[32m━━━━━━━━━━━━━━━━━━━━\u001b[0m\u001b[37m\u001b[0m \u001b[1m1s\u001b[0m 980us/step\n",
      "\u001b[1m23/23\u001b[0m \u001b[32m━━━━━━━━━━━━━━━━━━━━\u001b[0m\u001b[37m\u001b[0m \u001b[1m0s\u001b[0m 1ms/step \n"
     ]
    },
    {
     "name": "stderr",
     "output_type": "stream",
     "text": [
      "ExactExplainer explainer:  73%|███████▎  | 73/100 [01:25<00:26,  1.01it/s]"
     ]
    },
    {
     "name": "stdout",
     "output_type": "stream",
     "text": [
      "\u001b[1m575/575\u001b[0m \u001b[32m━━━━━━━━━━━━━━━━━━━━\u001b[0m\u001b[37m\u001b[0m \u001b[1m1s\u001b[0m 885us/step\n",
      "\u001b[1m26/26\u001b[0m \u001b[32m━━━━━━━━━━━━━━━━━━━━\u001b[0m\u001b[37m\u001b[0m \u001b[1m0s\u001b[0m 1ms/step \n"
     ]
    },
    {
     "name": "stderr",
     "output_type": "stream",
     "text": [
      "ExactExplainer explainer:  74%|███████▍  | 74/100 [01:26<00:25,  1.03it/s]"
     ]
    },
    {
     "name": "stdout",
     "output_type": "stream",
     "text": [
      "\u001b[1m616/616\u001b[0m \u001b[32m━━━━━━━━━━━━━━━━━━━━\u001b[0m\u001b[37m\u001b[0m \u001b[1m1s\u001b[0m 927us/step\n",
      "\u001b[1m28/28\u001b[0m \u001b[32m━━━━━━━━━━━━━━━━━━━━\u001b[0m\u001b[37m\u001b[0m \u001b[1m0s\u001b[0m 1ms/step \n"
     ]
    },
    {
     "name": "stderr",
     "output_type": "stream",
     "text": [
      "ExactExplainer explainer:  75%|███████▌  | 75/100 [01:27<00:24,  1.02it/s]"
     ]
    },
    {
     "name": "stdout",
     "output_type": "stream",
     "text": [
      "\u001b[1m625/625\u001b[0m \u001b[32m━━━━━━━━━━━━━━━━━━━━\u001b[0m\u001b[37m\u001b[0m \u001b[1m1s\u001b[0m 884us/step\n",
      "\u001b[1m25/25\u001b[0m \u001b[32m━━━━━━━━━━━━━━━━━━━━\u001b[0m\u001b[37m\u001b[0m \u001b[1m0s\u001b[0m 1ms/step \n"
     ]
    },
    {
     "name": "stderr",
     "output_type": "stream",
     "text": [
      "ExactExplainer explainer:  76%|███████▌  | 76/100 [01:28<00:22,  1.05it/s]"
     ]
    },
    {
     "name": "stdout",
     "output_type": "stream",
     "text": [
      "\u001b[1m607/607\u001b[0m \u001b[32m━━━━━━━━━━━━━━━━━━━━\u001b[0m\u001b[37m\u001b[0m \u001b[1m1s\u001b[0m 819us/step\n",
      "\u001b[1m24/24\u001b[0m \u001b[32m━━━━━━━━━━━━━━━━━━━━\u001b[0m\u001b[37m\u001b[0m \u001b[1m0s\u001b[0m 1ms/step \n"
     ]
    },
    {
     "name": "stderr",
     "output_type": "stream",
     "text": [
      "ExactExplainer explainer:  77%|███████▋  | 77/100 [01:29<00:20,  1.10it/s]"
     ]
    },
    {
     "name": "stdout",
     "output_type": "stream",
     "text": [
      "\u001b[1m564/564\u001b[0m \u001b[32m━━━━━━━━━━━━━━━━━━━━\u001b[0m\u001b[37m\u001b[0m \u001b[1m0s\u001b[0m 643us/step\n",
      "\u001b[1m24/24\u001b[0m \u001b[32m━━━━━━━━━━━━━━━━━━━━\u001b[0m\u001b[37m\u001b[0m \u001b[1m0s\u001b[0m 1ms/step \n"
     ]
    },
    {
     "name": "stderr",
     "output_type": "stream",
     "text": [
      "ExactExplainer explainer:  78%|███████▊  | 78/100 [01:30<00:18,  1.16it/s]"
     ]
    },
    {
     "name": "stdout",
     "output_type": "stream",
     "text": [
      "\u001b[1m598/598\u001b[0m \u001b[32m━━━━━━━━━━━━━━━━━━━━\u001b[0m\u001b[37m\u001b[0m \u001b[1m0s\u001b[0m 637us/step\n",
      "\u001b[1m25/25\u001b[0m \u001b[32m━━━━━━━━━━━━━━━━━━━━\u001b[0m\u001b[37m\u001b[0m \u001b[1m0s\u001b[0m 1ms/step \n"
     ]
    },
    {
     "name": "stderr",
     "output_type": "stream",
     "text": [
      "ExactExplainer explainer:  79%|███████▉  | 79/100 [01:30<00:17,  1.23it/s]"
     ]
    },
    {
     "name": "stdout",
     "output_type": "stream",
     "text": [
      "\u001b[1m559/559\u001b[0m \u001b[32m━━━━━━━━━━━━━━━━━━━━\u001b[0m\u001b[37m\u001b[0m \u001b[1m0s\u001b[0m 704us/step\n",
      "\u001b[1m25/25\u001b[0m \u001b[32m━━━━━━━━━━━━━━━━━━━━\u001b[0m\u001b[37m\u001b[0m \u001b[1m0s\u001b[0m 2ms/step \n"
     ]
    },
    {
     "name": "stderr",
     "output_type": "stream",
     "text": [
      "ExactExplainer explainer:  80%|████████  | 80/100 [01:31<00:15,  1.29it/s]"
     ]
    },
    {
     "name": "stdout",
     "output_type": "stream",
     "text": [
      "\u001b[1m600/600\u001b[0m \u001b[32m━━━━━━━━━━━━━━━━━━━━\u001b[0m\u001b[37m\u001b[0m \u001b[1m0s\u001b[0m 667us/step\n",
      "\u001b[1m24/24\u001b[0m \u001b[32m━━━━━━━━━━━━━━━━━━━━\u001b[0m\u001b[37m\u001b[0m \u001b[1m0s\u001b[0m 1ms/step \n"
     ]
    },
    {
     "name": "stderr",
     "output_type": "stream",
     "text": [
      "ExactExplainer explainer:  81%|████████  | 81/100 [01:32<00:14,  1.29it/s]"
     ]
    },
    {
     "name": "stdout",
     "output_type": "stream",
     "text": [
      "\u001b[1m610/610\u001b[0m \u001b[32m━━━━━━━━━━━━━━━━━━━━\u001b[0m\u001b[37m\u001b[0m \u001b[1m0s\u001b[0m 654us/step\n",
      "\u001b[1m26/26\u001b[0m \u001b[32m━━━━━━━━━━━━━━━━━━━━\u001b[0m\u001b[37m\u001b[0m \u001b[1m0s\u001b[0m 1ms/step \n"
     ]
    },
    {
     "name": "stderr",
     "output_type": "stream",
     "text": [
      "ExactExplainer explainer:  82%|████████▏ | 82/100 [01:32<00:13,  1.32it/s]"
     ]
    },
    {
     "name": "stdout",
     "output_type": "stream",
     "text": [
      "\u001b[1m593/593\u001b[0m \u001b[32m━━━━━━━━━━━━━━━━━━━━\u001b[0m\u001b[37m\u001b[0m \u001b[1m0s\u001b[0m 639us/step\n",
      "\u001b[1m26/26\u001b[0m \u001b[32m━━━━━━━━━━━━━━━━━━━━\u001b[0m\u001b[37m\u001b[0m \u001b[1m0s\u001b[0m 2ms/step \n"
     ]
    },
    {
     "name": "stderr",
     "output_type": "stream",
     "text": [
      "ExactExplainer explainer:  83%|████████▎ | 83/100 [01:33<00:12,  1.35it/s]"
     ]
    },
    {
     "name": "stdout",
     "output_type": "stream",
     "text": [
      "\u001b[1m588/588\u001b[0m \u001b[32m━━━━━━━━━━━━━━━━━━━━\u001b[0m\u001b[37m\u001b[0m \u001b[1m1s\u001b[0m 1ms/step\n",
      "\u001b[1m25/25\u001b[0m \u001b[32m━━━━━━━━━━━━━━━━━━━━\u001b[0m\u001b[37m\u001b[0m \u001b[1m0s\u001b[0m 2ms/step \n"
     ]
    },
    {
     "name": "stderr",
     "output_type": "stream",
     "text": [
      "ExactExplainer explainer:  84%|████████▍ | 84/100 [01:34<00:13,  1.19it/s]"
     ]
    },
    {
     "name": "stdout",
     "output_type": "stream",
     "text": [
      "\u001b[1m621/621\u001b[0m \u001b[32m━━━━━━━━━━━━━━━━━━━━\u001b[0m\u001b[37m\u001b[0m \u001b[1m1s\u001b[0m 1ms/step\n",
      "\u001b[1m26/26\u001b[0m \u001b[32m━━━━━━━━━━━━━━━━━━━━\u001b[0m\u001b[37m\u001b[0m \u001b[1m0s\u001b[0m 1ms/step \n"
     ]
    },
    {
     "name": "stderr",
     "output_type": "stream",
     "text": [
      "ExactExplainer explainer:  85%|████████▌ | 85/100 [01:35<00:13,  1.10it/s]"
     ]
    },
    {
     "name": "stdout",
     "output_type": "stream",
     "text": [
      "\u001b[1m716/716\u001b[0m \u001b[32m━━━━━━━━━━━━━━━━━━━━\u001b[0m\u001b[37m\u001b[0m \u001b[1m1s\u001b[0m 664us/step\n",
      "\u001b[1m26/26\u001b[0m \u001b[32m━━━━━━━━━━━━━━━━━━━━\u001b[0m\u001b[37m\u001b[0m \u001b[1m0s\u001b[0m 2ms/step \n"
     ]
    },
    {
     "name": "stderr",
     "output_type": "stream",
     "text": [
      "ExactExplainer explainer:  86%|████████▌ | 86/100 [01:36<00:12,  1.12it/s]"
     ]
    },
    {
     "name": "stdout",
     "output_type": "stream",
     "text": [
      "\u001b[1m600/600\u001b[0m \u001b[32m━━━━━━━━━━━━━━━━━━━━\u001b[0m\u001b[37m\u001b[0m \u001b[1m0s\u001b[0m 683us/step\n",
      "\u001b[1m24/24\u001b[0m \u001b[32m━━━━━━━━━━━━━━━━━━━━\u001b[0m\u001b[37m\u001b[0m \u001b[1m0s\u001b[0m 1ms/step \n"
     ]
    },
    {
     "name": "stderr",
     "output_type": "stream",
     "text": [
      "ExactExplainer explainer:  87%|████████▋ | 87/100 [01:37<00:11,  1.18it/s]"
     ]
    },
    {
     "name": "stdout",
     "output_type": "stream",
     "text": [
      "\u001b[1m670/670\u001b[0m \u001b[32m━━━━━━━━━━━━━━━━━━━━\u001b[0m\u001b[37m\u001b[0m \u001b[1m1s\u001b[0m 2ms/step\n",
      "\u001b[1m26/26\u001b[0m \u001b[32m━━━━━━━━━━━━━━━━━━━━\u001b[0m\u001b[37m\u001b[0m \u001b[1m0s\u001b[0m 2ms/step \n"
     ]
    },
    {
     "name": "stderr",
     "output_type": "stream",
     "text": [
      "ExactExplainer explainer:  88%|████████▊ | 88/100 [01:39<00:13,  1.11s/it]"
     ]
    },
    {
     "name": "stdout",
     "output_type": "stream",
     "text": [
      "\u001b[1m602/602\u001b[0m \u001b[32m━━━━━━━━━━━━━━━━━━━━\u001b[0m\u001b[37m\u001b[0m \u001b[1m1s\u001b[0m 1ms/step  \n",
      "\u001b[1m24/24\u001b[0m \u001b[32m━━━━━━━━━━━━━━━━━━━━\u001b[0m\u001b[37m\u001b[0m \u001b[1m0s\u001b[0m 3ms/step \n"
     ]
    },
    {
     "name": "stderr",
     "output_type": "stream",
     "text": [
      "ExactExplainer explainer:  89%|████████▉ | 89/100 [01:40<00:12,  1.11s/it]"
     ]
    },
    {
     "name": "stdout",
     "output_type": "stream",
     "text": [
      "\u001b[1m593/593\u001b[0m \u001b[32m━━━━━━━━━━━━━━━━━━━━\u001b[0m\u001b[37m\u001b[0m \u001b[1m1s\u001b[0m 1ms/step\n",
      "\u001b[1m24/24\u001b[0m \u001b[32m━━━━━━━━━━━━━━━━━━━━\u001b[0m\u001b[37m\u001b[0m \u001b[1m0s\u001b[0m 2ms/step \n"
     ]
    },
    {
     "name": "stderr",
     "output_type": "stream",
     "text": [
      "ExactExplainer explainer:  90%|█████████ | 90/100 [01:41<00:11,  1.11s/it]"
     ]
    },
    {
     "name": "stdout",
     "output_type": "stream",
     "text": [
      "\u001b[1m566/566\u001b[0m \u001b[32m━━━━━━━━━━━━━━━━━━━━\u001b[0m\u001b[37m\u001b[0m \u001b[1m1s\u001b[0m 1ms/step\n",
      "\u001b[1m25/25\u001b[0m \u001b[32m━━━━━━━━━━━━━━━━━━━━\u001b[0m\u001b[37m\u001b[0m \u001b[1m0s\u001b[0m 2ms/step \n"
     ]
    },
    {
     "name": "stderr",
     "output_type": "stream",
     "text": [
      "ExactExplainer explainer:  91%|█████████ | 91/100 [01:42<00:10,  1.12s/it]"
     ]
    },
    {
     "name": "stdout",
     "output_type": "stream",
     "text": [
      "\u001b[1m612/612\u001b[0m \u001b[32m━━━━━━━━━━━━━━━━━━━━\u001b[0m\u001b[37m\u001b[0m \u001b[1m1s\u001b[0m 1ms/step  \n",
      "\u001b[1m25/25\u001b[0m \u001b[32m━━━━━━━━━━━━━━━━━━━━\u001b[0m\u001b[37m\u001b[0m \u001b[1m0s\u001b[0m 3ms/step \n"
     ]
    },
    {
     "name": "stderr",
     "output_type": "stream",
     "text": [
      "ExactExplainer explainer:  92%|█████████▏| 92/100 [01:43<00:08,  1.12s/it]"
     ]
    },
    {
     "name": "stdout",
     "output_type": "stream",
     "text": [
      "\u001b[1m666/666\u001b[0m \u001b[32m━━━━━━━━━━━━━━━━━━━━\u001b[0m\u001b[37m\u001b[0m \u001b[1m1s\u001b[0m 1ms/step\n",
      "\u001b[1m26/26\u001b[0m \u001b[32m━━━━━━━━━━━━━━━━━━━━\u001b[0m\u001b[37m\u001b[0m \u001b[1m0s\u001b[0m 2ms/step \n"
     ]
    },
    {
     "name": "stderr",
     "output_type": "stream",
     "text": [
      "ExactExplainer explainer:  93%|█████████▎| 93/100 [01:44<00:08,  1.16s/it]"
     ]
    },
    {
     "name": "stdout",
     "output_type": "stream",
     "text": [
      "\u001b[1m595/595\u001b[0m \u001b[32m━━━━━━━━━━━━━━━━━━━━\u001b[0m\u001b[37m\u001b[0m \u001b[1m1s\u001b[0m 1ms/step\n",
      "\u001b[1m23/23\u001b[0m \u001b[32m━━━━━━━━━━━━━━━━━━━━\u001b[0m\u001b[37m\u001b[0m \u001b[1m0s\u001b[0m 3ms/step \n"
     ]
    },
    {
     "name": "stderr",
     "output_type": "stream",
     "text": [
      "ExactExplainer explainer:  94%|█████████▍| 94/100 [01:46<00:07,  1.19s/it]"
     ]
    },
    {
     "name": "stdout",
     "output_type": "stream",
     "text": [
      "\u001b[1m571/571\u001b[0m \u001b[32m━━━━━━━━━━━━━━━━━━━━\u001b[0m\u001b[37m\u001b[0m \u001b[1m1s\u001b[0m 2ms/step\n",
      "\u001b[1m24/24\u001b[0m \u001b[32m━━━━━━━━━━━━━━━━━━━━\u001b[0m\u001b[37m\u001b[0m \u001b[1m0s\u001b[0m 3ms/step \n"
     ]
    },
    {
     "name": "stderr",
     "output_type": "stream",
     "text": [
      "ExactExplainer explainer:  95%|█████████▌| 95/100 [01:47<00:06,  1.40s/it]"
     ]
    },
    {
     "name": "stdout",
     "output_type": "stream",
     "text": [
      "\u001b[1m602/602\u001b[0m \u001b[32m━━━━━━━━━━━━━━━━━━━━\u001b[0m\u001b[37m\u001b[0m \u001b[1m1s\u001b[0m 1ms/step\n",
      "\u001b[1m27/27\u001b[0m \u001b[32m━━━━━━━━━━━━━━━━━━━━\u001b[0m\u001b[37m\u001b[0m \u001b[1m0s\u001b[0m 3ms/step \n"
     ]
    },
    {
     "name": "stderr",
     "output_type": "stream",
     "text": [
      "ExactExplainer explainer:  96%|█████████▌| 96/100 [01:49<00:05,  1.42s/it]"
     ]
    },
    {
     "name": "stdout",
     "output_type": "stream",
     "text": [
      "\u001b[1m620/620\u001b[0m \u001b[32m━━━━━━━━━━━━━━━━━━━━\u001b[0m\u001b[37m\u001b[0m \u001b[1m1s\u001b[0m 1ms/step  \n",
      "\u001b[1m25/25\u001b[0m \u001b[32m━━━━━━━━━━━━━━━━━━━━\u001b[0m\u001b[37m\u001b[0m \u001b[1m0s\u001b[0m 2ms/step \n"
     ]
    },
    {
     "name": "stderr",
     "output_type": "stream",
     "text": [
      "ExactExplainer explainer:  97%|█████████▋| 97/100 [01:50<00:04,  1.34s/it]"
     ]
    },
    {
     "name": "stdout",
     "output_type": "stream",
     "text": [
      "\u001b[1m664/664\u001b[0m \u001b[32m━━━━━━━━━━━━━━━━━━━━\u001b[0m\u001b[37m\u001b[0m \u001b[1m1s\u001b[0m 1ms/step\n",
      "\u001b[1m27/27\u001b[0m \u001b[32m━━━━━━━━━━━━━━━━━━━━\u001b[0m\u001b[37m\u001b[0m \u001b[1m0s\u001b[0m 2ms/step \n"
     ]
    },
    {
     "name": "stderr",
     "output_type": "stream",
     "text": [
      "ExactExplainer explainer:  98%|█████████▊| 98/100 [01:51<00:02,  1.32s/it]"
     ]
    },
    {
     "name": "stdout",
     "output_type": "stream",
     "text": [
      "\u001b[1m570/570\u001b[0m \u001b[32m━━━━━━━━━━━━━━━━━━━━\u001b[0m\u001b[37m\u001b[0m \u001b[1m0s\u001b[0m 820us/step\n",
      "\u001b[1m27/27\u001b[0m \u001b[32m━━━━━━━━━━━━━━━━━━━━\u001b[0m\u001b[37m\u001b[0m \u001b[1m0s\u001b[0m 2ms/step \n"
     ]
    },
    {
     "name": "stderr",
     "output_type": "stream",
     "text": [
      "ExactExplainer explainer:  99%|█████████▉| 99/100 [01:52<00:01,  1.19s/it]"
     ]
    },
    {
     "name": "stdout",
     "output_type": "stream",
     "text": [
      "\u001b[1m662/662\u001b[0m \u001b[32m━━━━━━━━━━━━━━━━━━━━\u001b[0m\u001b[37m\u001b[0m \u001b[1m1s\u001b[0m 782us/step\n",
      "\u001b[1m24/24\u001b[0m \u001b[32m━━━━━━━━━━━━━━━━━━━━\u001b[0m\u001b[37m\u001b[0m \u001b[1m0s\u001b[0m 2ms/step \n"
     ]
    },
    {
     "name": "stderr",
     "output_type": "stream",
     "text": [
      "ExactExplainer explainer: 100%|██████████| 100/100 [01:53<00:00,  1.14s/it]"
     ]
    },
    {
     "name": "stdout",
     "output_type": "stream",
     "text": [
      "\u001b[1m584/584\u001b[0m \u001b[32m━━━━━━━━━━━━━━━━━━━━\u001b[0m\u001b[37m\u001b[0m \u001b[1m1s\u001b[0m 982us/step\n",
      "\u001b[1m26/26\u001b[0m \u001b[32m━━━━━━━━━━━━━━━━━━━━\u001b[0m\u001b[37m\u001b[0m \u001b[1m0s\u001b[0m 2ms/step \n"
     ]
    },
    {
     "name": "stderr",
     "output_type": "stream",
     "text": [
      "ExactExplainer explainer: 101it [01:54,  1.26s/it]                         \n"
     ]
    },
    {
     "data": {
      "image/png": "[encoded data removed]",
      "text/plain": [
       "<Figure size 800x470 with 2 Axes>"
      ]
     },
     "metadata": {},
     "output_type": "display_data"
    }
   ],
   "source": [
    "explainer = shap.Explainer(model.predict, X_test)\n",
    "shap_values = explainer(X_test[:100])\n",
    "shap.summary_plot(shap_values, features=X_test[:100], feature_names=X.columns)"
   ]
  },
  {
   "cell_type": "markdown",
   "id": "56d18d45",
   "metadata": {},
   "source": [
    "## 🔍 Interprétation Simple des Valeurs SHAP\n",
    "\n",
    "### 📌 1. Variables les plus importantes\n",
    "- **Duration (durée du prêt)** 📆 → plus grand impact sur les prédictions.\n",
    "- **Purpose (motif du prêt)** 🛠️ et **Saving accounts (épargne)** 💰 → également très influents.\n",
    "\n",
    "### 📈 2. Comment ces variables influencent le modèle\n",
    "- 🔴 **Durée longue** → **Risque élevé** (pousse la prédiction vers la droite).\n",
    "- 🔵 **Durée courte** → **Risque faible** (pousse la prédiction vers la gauche).\n",
    "- 💸 **Épargne faible** → Risque plus élevé.\n",
    "- 💵 **Bonne épargne** → Risque plus faible.\n",
    "\n",
    "### 🔻 3. Variables moins importantes\n",
    "- 🧓 **Âge**, 👔 **Job**, 🚻 **Sexe** : ont peu d’effet (valeurs SHAP proches de 0).\n",
    "\n",
    "---\n",
    "\n",
    "### 💡 Insight clé\n",
    "Le modèle prend ses décisions principalement selon **la durée du prêt** et **le niveau d’épargne**.  \n",
    "Les variables comme **le sexe ou l’âge** n’ont presque aucun impact sur les prédictions.\n",
    "\n",
    "---\n",
    "\n",
    "### 🧠 Recommandations métier\n",
    "- ✅ **Accorder plus rapidement les prêts à court terme**.\n",
    "- 🔍 **Surveiller les soldes d’épargne** pour évaluer le risque.\n",
    "- 🚫 **Ne pas fonder les décisions sur le sexe ou l’âge**, car ils ne prédisent pas bien le risque."
   ]
  },
  {
   "cell_type": "code",
   "execution_count": 30,
   "id": "61abba83",
   "metadata": {},
   "outputs": [
    {
     "name": "stdout",
     "output_type": "stream",
     "text": [
      "Duration            0.215872\n",
      "Purpose             0.031360\n",
      "Saving accounts     0.027028\n",
      "Age                 0.023693\n",
      "Job                 0.023621\n",
      "Sex                 0.022131\n",
      "Checking account    0.013726\n",
      "Housing             0.004852\n",
      "dtype: float64\n"
     ]
    }
   ],
   "source": [
    "shap_values_abs = np.abs(shap_values.values).mean(axis=0)\n",
    "shap_impact = pd.Series(shap_values_abs, index=X.columns).sort_values(ascending=False)\n",
    "print(shap_impact)\n"
   ]
  },
  {
   "cell_type": "markdown",
   "id": "79e6f8cc",
   "metadata": {},
   "source": [
    "## 💾 Sauvegarde du Modèle\n",
    "- On utilise `model.save()` pour enregistrer le modèle au format `.h5` (HDF5).\n",
    "- Le dossier `models/` est créé automatiquement s’il n’existe pas (`exist_ok=True`).\n",
    "\n",
    "### 📁 Chemin utilisé :\n",
    "- Dossier : `models/`\n",
    "- Fichier : `credit_model.h5`"
   ]
  },
  {
   "cell_type": "code",
   "execution_count": null,
   "id": "be352348",
   "metadata": {},
   "outputs": [
    {
     "name": "stderr",
     "output_type": "stream",
     "text": [
      "WARNING:absl:You are saving your model as an HDF5 file via `model.save()` or `keras.saving.save_model(model)`. This file format is considered legacy. We recommend using instead the native Keras format, e.g. `model.save('my_model.keras')` or `keras.saving.save_model(model, 'my_model.keras')`. \n",
      "WARNING:absl:Compiled the loaded model, but the compiled metrics have yet to be built. `model.compile_metrics` will be empty until you train or evaluate the model.\n"
     ]
    }
   ],
   "source": [
    "os.makedirs('models', exist_ok=True)\n",
    "model.save('models/credit_model.h5')\n",
    "df.to_csv(\"data/clean_data.csv\", index=False)\n"
   ]
  }
 ],
 "metadata": {
  "kernelspec": {
   "display_name": "Python 3",
   "language": "python",
   "name": "python3"
  },
  "language_info": {
   "codemirror_mode": {
    "name": "ipython",
    "version": 3
   },
   "file_extension": ".py",
   "mimetype": "text/x-python",
   "name": "python",
   "nbconvert_exporter": "python",
   "pygments_lexer": "ipython3",
   "version": "3.12.10"
  }
 },
 "nbformat": 4,
 "nbformat_minor": 5
}
